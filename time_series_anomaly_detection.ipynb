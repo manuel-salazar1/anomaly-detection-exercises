{
 "cells": [
  {
   "cell_type": "markdown",
   "id": "1aa66619-913b-4d5b-9f54-34924e40e5f0",
   "metadata": {},
   "source": [
    "#### Imports"
   ]
  },
  {
   "cell_type": "code",
   "execution_count": null,
   "id": "9c97da54-a3f8-4667-9ce7-77c38558d7e5",
   "metadata": {},
   "outputs": [],
   "source": [
    "import pandas as pd\n",
    "import numpy as np\n",
    "\n",
    "import matplotlib.pyplot as plt\n",
    "import seaborn as sns\n",
    "\n",
    "import env"
   ]
  },
  {
   "cell_type": "markdown",
   "id": "a925081f-51bf-4d95-a490-f3dfbb40fa4a",
   "metadata": {},
   "source": [
    "# Exercise"
   ]
  },
  {
   "cell_type": "markdown",
   "id": "f198e7cd-9cda-4093-874f-53df39f8d857",
   "metadata": {},
   "source": [
    "- The dataset for these exercises lives in the Codeup Data Science MySQL Server. The database name is curriculum_logs.\n",
    "\n",
    "- Go through the lesson commenting code, adding docstrings, and adding markdown to support what is happening."
   ]
  },
  {
   "cell_type": "code",
   "execution_count": null,
   "id": "a88f751b-cb1b-4980-b1c8-8de36e43fc6f",
   "metadata": {},
   "outputs": [],
   "source": [
    "def acquire_logs(user=env.username, password=env.password, host=env.host):\n",
    "    '''\n",
    "    Function will utilize: username, password, host from env file.\n",
    "    Output: df containing curriculum log data from Codeup\n",
    "    '''\n",
    "    url = f'mysql+pymysql://{env.user}:{env.password}@{env.host}/curriculum_logs'\n",
    "    query = '''\n",
    "    SELECT date,\n",
    "           path as endpoint,\n",
    "           user_id,\n",
    "           cohort_id,\n",
    "           ip as source_ip\n",
    "    FROM logs;\n",
    "    '''\n",
    "    df = pd.read_sql(query, url)\n",
    "    return df"
   ]
  },
  {
   "cell_type": "code",
   "execution_count": null,
   "id": "0f9ace93-cde8-4cee-979b-a1683dde0d18",
   "metadata": {},
   "outputs": [],
   "source": [
    "def one_user_df_prep(df, user):\n",
    "    '''\n",
    "    Inputs: df, user - isolates 1 user\n",
    "    Outputs: pages_one_user dataframe\n",
    "    '''\n",
    "    df = df[df.user_id == user].copy()\n",
    "    df.date = pd.to_datetime(df.date)\n",
    "    df = df.set_index(df.date)\n",
    "    df = df.sort_index()\n",
    "    pages_one_user = df['endpoint'].resample('d').count()\n",
    "    return pages_one_user"
   ]
  },
  {
   "cell_type": "code",
   "execution_count": null,
   "id": "1abfa096-9fcf-4588-89bf-1ca2e10c333c",
   "metadata": {},
   "outputs": [],
   "source": [
    "def compute_pct_b(pages_one_user, span, k, user):\n",
    "    '''\n",
    "    Inputs: pages_one_user, span, k, user\n",
    "    Calculates: midband, stdev, upper-band, lower-band\n",
    "    Combines all of the above together into one df\n",
    "    Then calculates pct_b\n",
    "    Outputs: my_df\n",
    "    '''\n",
    "    midband = pages_one_user.ewm(span=span).mean()\n",
    "    stdev = pages_one_user.ewm(span=span).std()\n",
    "    ub = midband + stdev*k\n",
    "    lb = midband - stdev*k\n",
    "    \n",
    "    my_df = pd.concat([pages_one_user, midband, ub, lb], axis=1)\n",
    "    my_df.columns = ['pages_one_user', 'midband', 'ub', 'lb']\n",
    "    \n",
    "    my_df['pct_b'] = (my_df['pages_one_user'] - my_df['lb'])/(my_df['ub'] - my_df['lb'])\n",
    "    my_df['user_id'] = user\n",
    "    return my_df"
   ]
  },
  {
   "cell_type": "code",
   "execution_count": null,
   "id": "04d51ca8-6b92-4e94-93aa-9fac378a8054",
   "metadata": {},
   "outputs": [],
   "source": [
    "def plot_bands(my_df, user):\n",
    "    '''\n",
    "    Inputs: my_df, user\n",
    "    Outputs: plots my_df in subplots\n",
    "    '''\n",
    "    fig, ax = plt.subplots(figsize=(12,8))\n",
    "    ax.plot(my_df.index, my_df.pages_one_user, label='Number of Pages, User: '+str(user))\n",
    "    ax.plot(my_df.index, my_df.midband, label = 'EMA/midband')\n",
    "    ax.plot(my_df.index, my_df.ub, label = 'Upper Band')\n",
    "    ax.plot(my_df.index, my_df.lb, label = 'Lower Band')\n",
    "    ax.legend(loc='best')\n",
    "    ax.set_ylabel('Number of Pages')\n",
    "    plt.show()"
   ]
  },
  {
   "cell_type": "code",
   "execution_count": null,
   "id": "0129c115-fa01-4077-8b4e-a8446bb51874",
   "metadata": {},
   "outputs": [],
   "source": [
    "def find_anomalies(df, user, span, weight, plot=False):\n",
    "    '''\n",
    "    \n",
    "    '''\n",
    "    pages_one_user = one_user_df_prep(df, user)\n",
    "    \n",
    "    my_df = compute_pct_b(pages_one_user, span, weight, user)\n",
    "    \n",
    "    if plot:\n",
    "        plot_bands(my_df, user)\n",
    "    \n",
    "    return my_df[my_df.pct_b>1]"
   ]
  },
  {
   "cell_type": "code",
   "execution_count": null,
   "id": "b170f7d6-39db-4857-abcf-eb700ea7f539",
   "metadata": {},
   "outputs": [],
   "source": []
  },
  {
   "cell_type": "code",
   "execution_count": null,
   "id": "54f28d7c-0c0e-4b24-9ec5-81f12f077590",
   "metadata": {},
   "outputs": [],
   "source": []
  },
  {
   "cell_type": "code",
   "execution_count": null,
   "id": "58464f2b-5e38-4c6b-a046-e85a1b243260",
   "metadata": {},
   "outputs": [],
   "source": []
  }
 ],
 "metadata": {
  "kernelspec": {
   "display_name": "Python 3 (ipykernel)",
   "language": "python",
   "name": "python3"
  },
  "language_info": {
   "codemirror_mode": {
    "name": "ipython",
    "version": 3
   },
   "file_extension": ".py",
   "mimetype": "text/x-python",
   "name": "python",
   "nbconvert_exporter": "python",
   "pygments_lexer": "ipython3",
   "version": "3.9.13"
  }
 },
 "nbformat": 4,
 "nbformat_minor": 5
}
