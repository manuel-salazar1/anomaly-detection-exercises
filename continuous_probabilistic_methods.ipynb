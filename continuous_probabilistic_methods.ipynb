{
 "cells": [
  {
   "cell_type": "markdown",
   "id": "f6d0d91b-8268-41f8-aedb-5f0b49e5a6ba",
   "metadata": {},
   "source": [
    "#### Imports"
   ]
  },
  {
   "cell_type": "code",
   "execution_count": 1,
   "id": "448bc9b3-d011-427a-a402-1495a9c9b4d7",
   "metadata": {},
   "outputs": [],
   "source": [
    "import numpy as np\n",
    "import pandas as pd\n",
    "import seaborn as sns\n",
    "import itertools\n",
    "from pydataset import data\n",
    "\n",
    "import matplotlib.pyplot as plt\n",
    "%matplotlib inline"
   ]
  },
  {
   "cell_type": "markdown",
   "id": "9e614321-3649-4231-8e43-6077bf436bd7",
   "metadata": {},
   "source": [
    "# Exercises"
   ]
  },
  {
   "cell_type": "code",
   "execution_count": 84,
   "id": "b271ece0-93ef-4a28-9e4d-e4809e4fd10e",
   "metadata": {},
   "outputs": [],
   "source": [
    "def get_lower_and_upper_bounds(col, k=1.5):\n",
    "    q1 = col.quantile(0.25)\n",
    "    q3 = col.quantile(0.75)\n",
    "    iqr = q3 - q1\n",
    "    \n",
    "    lower_fence = q1 - (iqr*k)\n",
    "    upper_fence = q3 + (iqr*k)\n",
    "    \n",
    "    return lower_fence, upper_fence"
   ]
  },
  {
   "cell_type": "markdown",
   "id": "7b07e783-d4e7-44ab-8eb4-8ed15ba6d441",
   "metadata": {},
   "source": [
    "#### 1. Using lemonade.csv dataset and focusing on continuous variables:"
   ]
  },
  {
   "cell_type": "code",
   "execution_count": 2,
   "id": "63e4bba9-c495-4d11-84ee-f9a25ca9b214",
   "metadata": {},
   "outputs": [],
   "source": [
    "url = 'https://gist.githubusercontent.com/ryanorsinger/19bc7eccd6279661bd13307026628ace/raw/e4b5d6787015a4782f96cad6d1d62a8bdbac54c7/lemonade.csv'\n"
   ]
  },
  {
   "cell_type": "code",
   "execution_count": 3,
   "id": "f72aa7ea-ed6e-4624-ab56-bbad28f22e81",
   "metadata": {},
   "outputs": [],
   "source": [
    "df = pd.read_csv(url)"
   ]
  },
  {
   "cell_type": "code",
   "execution_count": 4,
   "id": "0a9613cf-873b-4061-b4f2-e71c7e02f8ac",
   "metadata": {},
   "outputs": [
    {
     "data": {
      "text/plain": [
       "(365, 7)"
      ]
     },
     "execution_count": 4,
     "metadata": {},
     "output_type": "execute_result"
    }
   ],
   "source": [
    "df.shape"
   ]
  },
  {
   "cell_type": "code",
   "execution_count": 5,
   "id": "87f361f8-e37d-462f-bd52-99838d0b5dfb",
   "metadata": {},
   "outputs": [
    {
     "data": {
      "text/html": [
       "<div>\n",
       "<style scoped>\n",
       "    .dataframe tbody tr th:only-of-type {\n",
       "        vertical-align: middle;\n",
       "    }\n",
       "\n",
       "    .dataframe tbody tr th {\n",
       "        vertical-align: top;\n",
       "    }\n",
       "\n",
       "    .dataframe thead th {\n",
       "        text-align: right;\n",
       "    }\n",
       "</style>\n",
       "<table border=\"1\" class=\"dataframe\">\n",
       "  <thead>\n",
       "    <tr style=\"text-align: right;\">\n",
       "      <th></th>\n",
       "      <th>Date</th>\n",
       "      <th>Day</th>\n",
       "      <th>Temperature</th>\n",
       "      <th>Rainfall</th>\n",
       "      <th>Flyers</th>\n",
       "      <th>Price</th>\n",
       "      <th>Sales</th>\n",
       "    </tr>\n",
       "  </thead>\n",
       "  <tbody>\n",
       "    <tr>\n",
       "      <th>0</th>\n",
       "      <td>1/1/17</td>\n",
       "      <td>Sunday</td>\n",
       "      <td>27.0</td>\n",
       "      <td>2.00</td>\n",
       "      <td>15</td>\n",
       "      <td>0.5</td>\n",
       "      <td>10</td>\n",
       "    </tr>\n",
       "    <tr>\n",
       "      <th>1</th>\n",
       "      <td>1/2/17</td>\n",
       "      <td>Monday</td>\n",
       "      <td>28.9</td>\n",
       "      <td>1.33</td>\n",
       "      <td>15</td>\n",
       "      <td>0.5</td>\n",
       "      <td>13</td>\n",
       "    </tr>\n",
       "    <tr>\n",
       "      <th>2</th>\n",
       "      <td>1/3/17</td>\n",
       "      <td>Tuesday</td>\n",
       "      <td>34.5</td>\n",
       "      <td>1.33</td>\n",
       "      <td>27</td>\n",
       "      <td>0.5</td>\n",
       "      <td>15</td>\n",
       "    </tr>\n",
       "    <tr>\n",
       "      <th>3</th>\n",
       "      <td>1/4/17</td>\n",
       "      <td>Wednesday</td>\n",
       "      <td>44.1</td>\n",
       "      <td>1.05</td>\n",
       "      <td>28</td>\n",
       "      <td>0.5</td>\n",
       "      <td>17</td>\n",
       "    </tr>\n",
       "    <tr>\n",
       "      <th>4</th>\n",
       "      <td>1/5/17</td>\n",
       "      <td>Thursday</td>\n",
       "      <td>42.4</td>\n",
       "      <td>1.00</td>\n",
       "      <td>33</td>\n",
       "      <td>0.5</td>\n",
       "      <td>18</td>\n",
       "    </tr>\n",
       "  </tbody>\n",
       "</table>\n",
       "</div>"
      ],
      "text/plain": [
       "     Date        Day  Temperature  Rainfall  Flyers  Price  Sales\n",
       "0  1/1/17     Sunday         27.0      2.00      15    0.5     10\n",
       "1  1/2/17     Monday         28.9      1.33      15    0.5     13\n",
       "2  1/3/17    Tuesday         34.5      1.33      27    0.5     15\n",
       "3  1/4/17  Wednesday         44.1      1.05      28    0.5     17\n",
       "4  1/5/17   Thursday         42.4      1.00      33    0.5     18"
      ]
     },
     "execution_count": 5,
     "metadata": {},
     "output_type": "execute_result"
    }
   ],
   "source": [
    "df.head()"
   ]
  },
  {
   "cell_type": "code",
   "execution_count": 6,
   "id": "b68f154d-eece-4f7d-96d0-d3b62755f302",
   "metadata": {},
   "outputs": [
    {
     "name": "stdout",
     "output_type": "stream",
     "text": [
      "<class 'pandas.core.frame.DataFrame'>\n",
      "RangeIndex: 365 entries, 0 to 364\n",
      "Data columns (total 7 columns):\n",
      " #   Column       Non-Null Count  Dtype  \n",
      "---  ------       --------------  -----  \n",
      " 0   Date         365 non-null    object \n",
      " 1   Day          365 non-null    object \n",
      " 2   Temperature  365 non-null    float64\n",
      " 3   Rainfall     365 non-null    float64\n",
      " 4   Flyers       365 non-null    int64  \n",
      " 5   Price        365 non-null    float64\n",
      " 6   Sales        365 non-null    int64  \n",
      "dtypes: float64(3), int64(2), object(2)\n",
      "memory usage: 20.1+ KB\n"
     ]
    }
   ],
   "source": [
    "df.info()"
   ]
  },
  {
   "cell_type": "code",
   "execution_count": 7,
   "id": "f67da000-402b-459c-8cd8-1a64ba7ae469",
   "metadata": {},
   "outputs": [
    {
     "data": {
      "text/html": [
       "<div>\n",
       "<style scoped>\n",
       "    .dataframe tbody tr th:only-of-type {\n",
       "        vertical-align: middle;\n",
       "    }\n",
       "\n",
       "    .dataframe tbody tr th {\n",
       "        vertical-align: top;\n",
       "    }\n",
       "\n",
       "    .dataframe thead th {\n",
       "        text-align: right;\n",
       "    }\n",
       "</style>\n",
       "<table border=\"1\" class=\"dataframe\">\n",
       "  <thead>\n",
       "    <tr style=\"text-align: right;\">\n",
       "      <th></th>\n",
       "      <th>Temperature</th>\n",
       "      <th>Rainfall</th>\n",
       "      <th>Flyers</th>\n",
       "      <th>Price</th>\n",
       "      <th>Sales</th>\n",
       "    </tr>\n",
       "  </thead>\n",
       "  <tbody>\n",
       "    <tr>\n",
       "      <th>count</th>\n",
       "      <td>365.000000</td>\n",
       "      <td>365.000000</td>\n",
       "      <td>365.000000</td>\n",
       "      <td>365.0</td>\n",
       "      <td>365.000000</td>\n",
       "    </tr>\n",
       "    <tr>\n",
       "      <th>mean</th>\n",
       "      <td>61.224658</td>\n",
       "      <td>0.825973</td>\n",
       "      <td>40.104110</td>\n",
       "      <td>0.5</td>\n",
       "      <td>27.865753</td>\n",
       "    </tr>\n",
       "    <tr>\n",
       "      <th>std</th>\n",
       "      <td>18.085892</td>\n",
       "      <td>0.273890</td>\n",
       "      <td>13.786445</td>\n",
       "      <td>0.0</td>\n",
       "      <td>30.948132</td>\n",
       "    </tr>\n",
       "    <tr>\n",
       "      <th>min</th>\n",
       "      <td>15.100000</td>\n",
       "      <td>0.400000</td>\n",
       "      <td>-38.000000</td>\n",
       "      <td>0.5</td>\n",
       "      <td>7.000000</td>\n",
       "    </tr>\n",
       "    <tr>\n",
       "      <th>25%</th>\n",
       "      <td>49.700000</td>\n",
       "      <td>0.650000</td>\n",
       "      <td>31.000000</td>\n",
       "      <td>0.5</td>\n",
       "      <td>20.000000</td>\n",
       "    </tr>\n",
       "    <tr>\n",
       "      <th>50%</th>\n",
       "      <td>61.100000</td>\n",
       "      <td>0.740000</td>\n",
       "      <td>39.000000</td>\n",
       "      <td>0.5</td>\n",
       "      <td>25.000000</td>\n",
       "    </tr>\n",
       "    <tr>\n",
       "      <th>75%</th>\n",
       "      <td>71.700000</td>\n",
       "      <td>0.910000</td>\n",
       "      <td>49.000000</td>\n",
       "      <td>0.5</td>\n",
       "      <td>30.000000</td>\n",
       "    </tr>\n",
       "    <tr>\n",
       "      <th>max</th>\n",
       "      <td>212.000000</td>\n",
       "      <td>2.500000</td>\n",
       "      <td>80.000000</td>\n",
       "      <td>0.5</td>\n",
       "      <td>534.000000</td>\n",
       "    </tr>\n",
       "  </tbody>\n",
       "</table>\n",
       "</div>"
      ],
      "text/plain": [
       "       Temperature    Rainfall      Flyers  Price       Sales\n",
       "count   365.000000  365.000000  365.000000  365.0  365.000000\n",
       "mean     61.224658    0.825973   40.104110    0.5   27.865753\n",
       "std      18.085892    0.273890   13.786445    0.0   30.948132\n",
       "min      15.100000    0.400000  -38.000000    0.5    7.000000\n",
       "25%      49.700000    0.650000   31.000000    0.5   20.000000\n",
       "50%      61.100000    0.740000   39.000000    0.5   25.000000\n",
       "75%      71.700000    0.910000   49.000000    0.5   30.000000\n",
       "max     212.000000    2.500000   80.000000    0.5  534.000000"
      ]
     },
     "execution_count": 7,
     "metadata": {},
     "output_type": "execute_result"
    }
   ],
   "source": [
    "df.describe()"
   ]
  },
  {
   "cell_type": "markdown",
   "id": "39e1bec6-66d0-4932-8dcc-57ed2b428283",
   "metadata": {},
   "source": [
    "- Use the IQR Range Rule and the upper and lower bounds to identify the lower outliers of each column of lemonade.csv, using the multiplier of 1.5. Do these lower outliers make sense? Which outliers should be kept?\n"
   ]
  },
  {
   "cell_type": "code",
   "execution_count": 86,
   "id": "e3e81080-d980-4454-b1c8-7b25918db64b",
   "metadata": {},
   "outputs": [
    {
     "name": "stdout",
     "output_type": "stream",
     "text": [
      "|     |   Temperature |\n",
      "|----:|--------------:|\n",
      "| 364 |          15.1 |\n",
      "\n",
      "| Rainfall   |\n",
      "|------------|\n",
      "\n",
      "|     |   Flyers |\n",
      "|----:|---------:|\n",
      "| 324 |      -38 |\n",
      "\n",
      "| Price   |\n",
      "|---------|\n",
      "\n",
      "| Sales   |\n",
      "|---------|\n",
      "\n"
     ]
    }
   ],
   "source": [
    "for col in df.columns[2:]:\n",
    "    lower_fence, upper_fence = get_lower_and_upper_bounds(df[col])\n",
    "    \n",
    "    print(df[col] [(df[col] < lower_fence)].to_markdown())\n",
    "    print()"
   ]
  },
  {
   "cell_type": "code",
   "execution_count": 87,
   "id": "2875a820-ef47-4af1-914c-2c3b0cc988cd",
   "metadata": {},
   "outputs": [
    {
     "name": "stdout",
     "output_type": "stream",
     "text": [
      "|    |   Temperature |\n",
      "|---:|--------------:|\n",
      "| 41 |           212 |\n",
      "\n",
      "|     |   Rainfall |\n",
      "|----:|-----------:|\n",
      "|   0 |       2    |\n",
      "|   1 |       1.33 |\n",
      "|   2 |       1.33 |\n",
      "|   5 |       1.54 |\n",
      "|   6 |       1.54 |\n",
      "|  10 |       1.54 |\n",
      "|  11 |       1.33 |\n",
      "|  12 |       1.33 |\n",
      "|  15 |       1.67 |\n",
      "|  16 |       1.43 |\n",
      "|  19 |       1.43 |\n",
      "|  23 |       1.54 |\n",
      "|  27 |       1.33 |\n",
      "|  28 |       1.33 |\n",
      "| 337 |       1.54 |\n",
      "| 338 |       1.82 |\n",
      "| 342 |       1.43 |\n",
      "| 343 |       1.82 |\n",
      "| 345 |       1.33 |\n",
      "| 346 |       1.43 |\n",
      "| 347 |       1.54 |\n",
      "| 350 |       1.33 |\n",
      "| 351 |       1.43 |\n",
      "| 354 |       1.33 |\n",
      "| 355 |       1.54 |\n",
      "| 359 |       1.43 |\n",
      "| 363 |       1.43 |\n",
      "| 364 |       2.5  |\n",
      "\n",
      "|     |   Flyers |\n",
      "|----:|---------:|\n",
      "| 166 |       77 |\n",
      "| 194 |       80 |\n",
      "\n",
      "| Price   |\n",
      "|---------|\n",
      "\n",
      "|     |   Sales |\n",
      "|----:|--------:|\n",
      "| 181 |     143 |\n",
      "| 182 |     158 |\n",
      "| 183 |     235 |\n",
      "| 184 |     534 |\n",
      "\n"
     ]
    }
   ],
   "source": [
    "for col in df.columns[2:]:\n",
    "    lower_fence, upper_fence = get_lower_and_upper_bounds(df[col])\n",
    "    \n",
    "    print(df[col] [(df[col] > upper_fence)].to_markdown())\n",
    "    print()"
   ]
  },
  {
   "cell_type": "code",
   "execution_count": 83,
   "id": "3c750c50-65a8-47cd-9aac-f3b91080901d",
   "metadata": {},
   "outputs": [
    {
     "data": {
      "image/png": "[encoded data removed]",
      "text/plain": [
       "<Figure size 640x480 with 1 Axes>"
      ]
     },
     "metadata": {},
     "output_type": "display_data"
    },
    {
     "data": {
      "image/png": "[encoded data removed]",
      "text/plain": [
       "<Figure size 640x480 with 1 Axes>"
      ]
     },
     "metadata": {},
     "output_type": "display_data"
    },
    {
     "name": "stdout",
     "output_type": "stream",
     "text": [
      "------------\n"
     ]
    },
    {
     "data": {
      "image/png": "[encoded data removed]",
      "text/plain": [
       "<Figure size 640x480 with 1 Axes>"
      ]
     },
     "metadata": {},
     "output_type": "display_data"
    },
    {
     "data": {
      "image/png": "[encoded data removed]",
      "text/plain": [
       "<Figure size 640x480 with 1 Axes>"
      ]
     },
     "metadata": {},
     "output_type": "display_data"
    },
    {
     "name": "stdout",
     "output_type": "stream",
     "text": [
      "------------\n"
     ]
    },
    {
     "data": {
      "image/png": "[encoded data removed]",
      "text/plain": [
       "<Figure size 640x480 with 1 Axes>"
      ]
     },
     "metadata": {},
     "output_type": "display_data"
    },
    {
     "data": {
      "image/png": "[encoded data removed]",
      "text/plain": [
       "<Figure size 640x480 with 1 Axes>"
      ]
     },
     "metadata": {},
     "output_type": "display_data"
    },
    {
     "name": "stdout",
     "output_type": "stream",
     "text": [
      "------------\n"
     ]
    },
    {
     "data": {
      "image/png": "[encoded data removed]",
      "text/plain": [
       "<Figure size 640x480 with 1 Axes>"
      ]
     },
     "metadata": {},
     "output_type": "display_data"
    },
    {
     "data": {
      "image/png": "[encoded data removed]",
      "text/plain": [
       "<Figure size 640x480 with 1 Axes>"
      ]
     },
     "metadata": {},
     "output_type": "display_data"
    },
    {
     "name": "stdout",
     "output_type": "stream",
     "text": [
      "------------\n"
     ]
    },
    {
     "data": {
      "image/png": "[encoded data removed]",
      "text/plain": [
       "<Figure size 640x480 with 1 Axes>"
      ]
     },
     "metadata": {},
     "output_type": "display_data"
    },
    {
     "data": {
      "image/png": "[encoded data removed]",
      "text/plain": [
       "<Figure size 640x480 with 1 Axes>"
      ]
     },
     "metadata": {},
     "output_type": "display_data"
    },
    {
     "name": "stdout",
     "output_type": "stream",
     "text": [
      "------------\n"
     ]
    }
   ],
   "source": [
    "cols = df.columns.to_list()\n",
    "\n",
    "for col in cols[2:]:\n",
    "    plt.hist(df[col])\n",
    "    plt.title(col.capitalize())\n",
    "    plt.show()\n",
    "    sns.boxplot(data=df, x=col)\n",
    "    plt.show()\n",
    "    print('------------')"
   ]
  },
  {
   "cell_type": "code",
   "execution_count": 89,
   "id": "926a1652-dbf5-4805-8d63-5c9d06a65870",
   "metadata": {},
   "outputs": [
    {
     "data": {
      "image/png": "[encoded data removed]",
      "text/plain": [
       "<Figure size 640x480 with 1 Axes>"
      ]
     },
     "metadata": {},
     "output_type": "display_data"
    }
   ],
   "source": [
    "sns.boxplot(data=df, x='Temperature')\n",
    "plt.show()"
   ]
  },
  {
   "cell_type": "code",
   "execution_count": 46,
   "id": "06ca84e7-0518-4d48-b0ad-bb6088e34c1b",
   "metadata": {},
   "outputs": [],
   "source": [
    "def outliers_lower(data, column, multiplier=1.5):\n",
    "    q1 = data[column].quantile(0.25)\n",
    "    q3 = data[column].quantile(0.75)\n",
    "    iqr = q3 - q1\n",
    "    lower = q1 - (multiplier * iqr)\n",
    "    lower_outliers = data[data[column] < lower]\n",
    "    \n",
    "    return lower_outliers"
   ]
  },
  {
   "cell_type": "code",
   "execution_count": 47,
   "id": "19b8458a-eaa5-49af-956a-12a555e51fe8",
   "metadata": {},
   "outputs": [
    {
     "data": {
      "text/html": [
       "<div>\n",
       "<style scoped>\n",
       "    .dataframe tbody tr th:only-of-type {\n",
       "        vertical-align: middle;\n",
       "    }\n",
       "\n",
       "    .dataframe tbody tr th {\n",
       "        vertical-align: top;\n",
       "    }\n",
       "\n",
       "    .dataframe thead th {\n",
       "        text-align: right;\n",
       "    }\n",
       "</style>\n",
       "<table border=\"1\" class=\"dataframe\">\n",
       "  <thead>\n",
       "    <tr style=\"text-align: right;\">\n",
       "      <th></th>\n",
       "      <th>Date</th>\n",
       "      <th>Day</th>\n",
       "      <th>Temperature</th>\n",
       "      <th>Rainfall</th>\n",
       "      <th>Flyers</th>\n",
       "      <th>Price</th>\n",
       "      <th>Sales</th>\n",
       "    </tr>\n",
       "  </thead>\n",
       "  <tbody>\n",
       "    <tr>\n",
       "      <th>364</th>\n",
       "      <td>12/31/17</td>\n",
       "      <td>Sunday</td>\n",
       "      <td>15.1</td>\n",
       "      <td>2.5</td>\n",
       "      <td>9</td>\n",
       "      <td>0.5</td>\n",
       "      <td>7</td>\n",
       "    </tr>\n",
       "  </tbody>\n",
       "</table>\n",
       "</div>"
      ],
      "text/plain": [
       "         Date     Day  Temperature  Rainfall  Flyers  Price  Sales\n",
       "364  12/31/17  Sunday         15.1       2.5       9    0.5      7"
      ]
     },
     "execution_count": 47,
     "metadata": {},
     "output_type": "execute_result"
    }
   ],
   "source": [
    "outliers_lower(df, 'Temperature')"
   ]
  },
  {
   "cell_type": "code",
   "execution_count": 38,
   "id": "c2de12a0-7c88-4741-a3f7-f009fd164a7d",
   "metadata": {},
   "outputs": [
    {
     "data": {
      "text/html": [
       "<div>\n",
       "<style scoped>\n",
       "    .dataframe tbody tr th:only-of-type {\n",
       "        vertical-align: middle;\n",
       "    }\n",
       "\n",
       "    .dataframe tbody tr th {\n",
       "        vertical-align: top;\n",
       "    }\n",
       "\n",
       "    .dataframe thead th {\n",
       "        text-align: right;\n",
       "    }\n",
       "</style>\n",
       "<table border=\"1\" class=\"dataframe\">\n",
       "  <thead>\n",
       "    <tr style=\"text-align: right;\">\n",
       "      <th></th>\n",
       "      <th>Date</th>\n",
       "      <th>Day</th>\n",
       "      <th>Temperature</th>\n",
       "      <th>Rainfall</th>\n",
       "      <th>Flyers</th>\n",
       "      <th>Price</th>\n",
       "      <th>Sales</th>\n",
       "    </tr>\n",
       "  </thead>\n",
       "  <tbody>\n",
       "  </tbody>\n",
       "</table>\n",
       "</div>"
      ],
      "text/plain": [
       "Empty DataFrame\n",
       "Columns: [Date, Day, Temperature, Rainfall, Flyers, Price, Sales]\n",
       "Index: []"
      ]
     },
     "execution_count": 38,
     "metadata": {},
     "output_type": "execute_result"
    }
   ],
   "source": [
    "outliers_lower(df, 'Rainfall')"
   ]
  },
  {
   "cell_type": "code",
   "execution_count": 40,
   "id": "b07eeafa-39fe-4893-845a-82c181855a54",
   "metadata": {},
   "outputs": [
    {
     "data": {
      "text/html": [
       "<div>\n",
       "<style scoped>\n",
       "    .dataframe tbody tr th:only-of-type {\n",
       "        vertical-align: middle;\n",
       "    }\n",
       "\n",
       "    .dataframe tbody tr th {\n",
       "        vertical-align: top;\n",
       "    }\n",
       "\n",
       "    .dataframe thead th {\n",
       "        text-align: right;\n",
       "    }\n",
       "</style>\n",
       "<table border=\"1\" class=\"dataframe\">\n",
       "  <thead>\n",
       "    <tr style=\"text-align: right;\">\n",
       "      <th></th>\n",
       "      <th>Date</th>\n",
       "      <th>Day</th>\n",
       "      <th>Temperature</th>\n",
       "      <th>Rainfall</th>\n",
       "      <th>Flyers</th>\n",
       "      <th>Price</th>\n",
       "      <th>Sales</th>\n",
       "    </tr>\n",
       "  </thead>\n",
       "  <tbody>\n",
       "    <tr>\n",
       "      <th>324</th>\n",
       "      <td>11/21/17</td>\n",
       "      <td>Tuesday</td>\n",
       "      <td>47.0</td>\n",
       "      <td>0.95</td>\n",
       "      <td>-38</td>\n",
       "      <td>0.5</td>\n",
       "      <td>20</td>\n",
       "    </tr>\n",
       "  </tbody>\n",
       "</table>\n",
       "</div>"
      ],
      "text/plain": [
       "         Date      Day  Temperature  Rainfall  Flyers  Price  Sales\n",
       "324  11/21/17  Tuesday         47.0      0.95     -38    0.5     20"
      ]
     },
     "execution_count": 40,
     "metadata": {},
     "output_type": "execute_result"
    }
   ],
   "source": [
    "outliers_lower(df, 'Flyers')"
   ]
  },
  {
   "cell_type": "code",
   "execution_count": 42,
   "id": "d49f7b80-b62a-4f1b-9b1b-5f4368b8815a",
   "metadata": {},
   "outputs": [
    {
     "data": {
      "text/html": [
       "<div>\n",
       "<style scoped>\n",
       "    .dataframe tbody tr th:only-of-type {\n",
       "        vertical-align: middle;\n",
       "    }\n",
       "\n",
       "    .dataframe tbody tr th {\n",
       "        vertical-align: top;\n",
       "    }\n",
       "\n",
       "    .dataframe thead th {\n",
       "        text-align: right;\n",
       "    }\n",
       "</style>\n",
       "<table border=\"1\" class=\"dataframe\">\n",
       "  <thead>\n",
       "    <tr style=\"text-align: right;\">\n",
       "      <th></th>\n",
       "      <th>Date</th>\n",
       "      <th>Day</th>\n",
       "      <th>Temperature</th>\n",
       "      <th>Rainfall</th>\n",
       "      <th>Flyers</th>\n",
       "      <th>Price</th>\n",
       "      <th>Sales</th>\n",
       "    </tr>\n",
       "  </thead>\n",
       "  <tbody>\n",
       "  </tbody>\n",
       "</table>\n",
       "</div>"
      ],
      "text/plain": [
       "Empty DataFrame\n",
       "Columns: [Date, Day, Temperature, Rainfall, Flyers, Price, Sales]\n",
       "Index: []"
      ]
     },
     "execution_count": 42,
     "metadata": {},
     "output_type": "execute_result"
    }
   ],
   "source": [
    "outliers_lower(df, 'Price')"
   ]
  },
  {
   "cell_type": "code",
   "execution_count": 44,
   "id": "efcaed02-27e4-4e2f-bbab-73924285d412",
   "metadata": {},
   "outputs": [
    {
     "data": {
      "text/html": [
       "<div>\n",
       "<style scoped>\n",
       "    .dataframe tbody tr th:only-of-type {\n",
       "        vertical-align: middle;\n",
       "    }\n",
       "\n",
       "    .dataframe tbody tr th {\n",
       "        vertical-align: top;\n",
       "    }\n",
       "\n",
       "    .dataframe thead th {\n",
       "        text-align: right;\n",
       "    }\n",
       "</style>\n",
       "<table border=\"1\" class=\"dataframe\">\n",
       "  <thead>\n",
       "    <tr style=\"text-align: right;\">\n",
       "      <th></th>\n",
       "      <th>Date</th>\n",
       "      <th>Day</th>\n",
       "      <th>Temperature</th>\n",
       "      <th>Rainfall</th>\n",
       "      <th>Flyers</th>\n",
       "      <th>Price</th>\n",
       "      <th>Sales</th>\n",
       "    </tr>\n",
       "  </thead>\n",
       "  <tbody>\n",
       "  </tbody>\n",
       "</table>\n",
       "</div>"
      ],
      "text/plain": [
       "Empty DataFrame\n",
       "Columns: [Date, Day, Temperature, Rainfall, Flyers, Price, Sales]\n",
       "Index: []"
      ]
     },
     "execution_count": 44,
     "metadata": {},
     "output_type": "execute_result"
    }
   ],
   "source": [
    "outliers_lower(df, 'Sales')"
   ]
  },
  {
   "cell_type": "markdown",
   "id": "dc7fb55b-a4cb-4056-ae2a-c3f9ffe65c7f",
   "metadata": {},
   "source": [
    "- Use the IQR Range Rule and the upper and upper bounds to identify the upper outliers of each column of lemonade.csv, using the multiplier of 1.5. Do these upper outliers make sense? Which outliers should be kept?\n"
   ]
  },
  {
   "cell_type": "code",
   "execution_count": 48,
   "id": "afcd0962-7419-4333-949b-0a0283c974a7",
   "metadata": {},
   "outputs": [],
   "source": [
    "def outliers_upper(data, column, multiplier=1.5):\n",
    "    q1 = data[column].quantile(0.25)\n",
    "    q3 = data[column].quantile(0.75)\n",
    "    iqr = q3 - q1\n",
    "    upper = q3 + (multiplier * iqr)\n",
    "    upper_outliers = data[data[column] > upper]\n",
    "    return upper_outliers"
   ]
  },
  {
   "cell_type": "code",
   "execution_count": 49,
   "id": "78070624-9dfa-4aa6-8ba7-b2386d131d45",
   "metadata": {},
   "outputs": [
    {
     "data": {
      "text/html": [
       "<div>\n",
       "<style scoped>\n",
       "    .dataframe tbody tr th:only-of-type {\n",
       "        vertical-align: middle;\n",
       "    }\n",
       "\n",
       "    .dataframe tbody tr th {\n",
       "        vertical-align: top;\n",
       "    }\n",
       "\n",
       "    .dataframe thead th {\n",
       "        text-align: right;\n",
       "    }\n",
       "</style>\n",
       "<table border=\"1\" class=\"dataframe\">\n",
       "  <thead>\n",
       "    <tr style=\"text-align: right;\">\n",
       "      <th></th>\n",
       "      <th>Date</th>\n",
       "      <th>Day</th>\n",
       "      <th>Temperature</th>\n",
       "      <th>Rainfall</th>\n",
       "      <th>Flyers</th>\n",
       "      <th>Price</th>\n",
       "      <th>Sales</th>\n",
       "    </tr>\n",
       "  </thead>\n",
       "  <tbody>\n",
       "    <tr>\n",
       "      <th>41</th>\n",
       "      <td>2/11/17</td>\n",
       "      <td>Saturday</td>\n",
       "      <td>212.0</td>\n",
       "      <td>0.91</td>\n",
       "      <td>35</td>\n",
       "      <td>0.5</td>\n",
       "      <td>21</td>\n",
       "    </tr>\n",
       "  </tbody>\n",
       "</table>\n",
       "</div>"
      ],
      "text/plain": [
       "       Date       Day  Temperature  Rainfall  Flyers  Price  Sales\n",
       "41  2/11/17  Saturday        212.0      0.91      35    0.5     21"
      ]
     },
     "execution_count": 49,
     "metadata": {},
     "output_type": "execute_result"
    }
   ],
   "source": [
    "outliers_upper(df, 'Temperature')"
   ]
  },
  {
   "cell_type": "code",
   "execution_count": 39,
   "id": "9b5032f0-90db-49a8-951f-6f28f6b1e7b4",
   "metadata": {},
   "outputs": [
    {
     "data": {
      "text/html": [
       "<div>\n",
       "<style scoped>\n",
       "    .dataframe tbody tr th:only-of-type {\n",
       "        vertical-align: middle;\n",
       "    }\n",
       "\n",
       "    .dataframe tbody tr th {\n",
       "        vertical-align: top;\n",
       "    }\n",
       "\n",
       "    .dataframe thead th {\n",
       "        text-align: right;\n",
       "    }\n",
       "</style>\n",
       "<table border=\"1\" class=\"dataframe\">\n",
       "  <thead>\n",
       "    <tr style=\"text-align: right;\">\n",
       "      <th></th>\n",
       "      <th>Date</th>\n",
       "      <th>Day</th>\n",
       "      <th>Temperature</th>\n",
       "      <th>Rainfall</th>\n",
       "      <th>Flyers</th>\n",
       "      <th>Price</th>\n",
       "      <th>Sales</th>\n",
       "    </tr>\n",
       "  </thead>\n",
       "  <tbody>\n",
       "    <tr>\n",
       "      <th>0</th>\n",
       "      <td>1/1/17</td>\n",
       "      <td>Sunday</td>\n",
       "      <td>27.0</td>\n",
       "      <td>2.00</td>\n",
       "      <td>15</td>\n",
       "      <td>0.5</td>\n",
       "      <td>10</td>\n",
       "    </tr>\n",
       "    <tr>\n",
       "      <th>1</th>\n",
       "      <td>1/2/17</td>\n",
       "      <td>Monday</td>\n",
       "      <td>28.9</td>\n",
       "      <td>1.33</td>\n",
       "      <td>15</td>\n",
       "      <td>0.5</td>\n",
       "      <td>13</td>\n",
       "    </tr>\n",
       "    <tr>\n",
       "      <th>2</th>\n",
       "      <td>1/3/17</td>\n",
       "      <td>Tuesday</td>\n",
       "      <td>34.5</td>\n",
       "      <td>1.33</td>\n",
       "      <td>27</td>\n",
       "      <td>0.5</td>\n",
       "      <td>15</td>\n",
       "    </tr>\n",
       "    <tr>\n",
       "      <th>5</th>\n",
       "      <td>1/6/17</td>\n",
       "      <td>Friday</td>\n",
       "      <td>25.3</td>\n",
       "      <td>1.54</td>\n",
       "      <td>23</td>\n",
       "      <td>0.5</td>\n",
       "      <td>11</td>\n",
       "    </tr>\n",
       "    <tr>\n",
       "      <th>6</th>\n",
       "      <td>1/7/17</td>\n",
       "      <td>Saturday</td>\n",
       "      <td>32.9</td>\n",
       "      <td>1.54</td>\n",
       "      <td>19</td>\n",
       "      <td>0.5</td>\n",
       "      <td>13</td>\n",
       "    </tr>\n",
       "    <tr>\n",
       "      <th>10</th>\n",
       "      <td>1/11/17</td>\n",
       "      <td>Wednesday</td>\n",
       "      <td>32.6</td>\n",
       "      <td>1.54</td>\n",
       "      <td>23</td>\n",
       "      <td>0.5</td>\n",
       "      <td>12</td>\n",
       "    </tr>\n",
       "    <tr>\n",
       "      <th>11</th>\n",
       "      <td>1/12/17</td>\n",
       "      <td>Thursday</td>\n",
       "      <td>38.2</td>\n",
       "      <td>1.33</td>\n",
       "      <td>16</td>\n",
       "      <td>0.5</td>\n",
       "      <td>14</td>\n",
       "    </tr>\n",
       "    <tr>\n",
       "      <th>12</th>\n",
       "      <td>1/13/17</td>\n",
       "      <td>Friday</td>\n",
       "      <td>37.5</td>\n",
       "      <td>1.33</td>\n",
       "      <td>19</td>\n",
       "      <td>0.5</td>\n",
       "      <td>15</td>\n",
       "    </tr>\n",
       "    <tr>\n",
       "      <th>15</th>\n",
       "      <td>1/16/17</td>\n",
       "      <td>Monday</td>\n",
       "      <td>30.6</td>\n",
       "      <td>1.67</td>\n",
       "      <td>24</td>\n",
       "      <td>0.5</td>\n",
       "      <td>12</td>\n",
       "    </tr>\n",
       "    <tr>\n",
       "      <th>16</th>\n",
       "      <td>1/17/17</td>\n",
       "      <td>Tuesday</td>\n",
       "      <td>32.2</td>\n",
       "      <td>1.43</td>\n",
       "      <td>26</td>\n",
       "      <td>0.5</td>\n",
       "      <td>14</td>\n",
       "    </tr>\n",
       "    <tr>\n",
       "      <th>19</th>\n",
       "      <td>1/20/17</td>\n",
       "      <td>Friday</td>\n",
       "      <td>31.6</td>\n",
       "      <td>1.43</td>\n",
       "      <td>20</td>\n",
       "      <td>0.5</td>\n",
       "      <td>12</td>\n",
       "    </tr>\n",
       "    <tr>\n",
       "      <th>23</th>\n",
       "      <td>1/24/17</td>\n",
       "      <td>Tuesday</td>\n",
       "      <td>28.6</td>\n",
       "      <td>1.54</td>\n",
       "      <td>20</td>\n",
       "      <td>0.5</td>\n",
       "      <td>12</td>\n",
       "    </tr>\n",
       "    <tr>\n",
       "      <th>27</th>\n",
       "      <td>1/28/17</td>\n",
       "      <td>Saturday</td>\n",
       "      <td>34.9</td>\n",
       "      <td>1.33</td>\n",
       "      <td>15</td>\n",
       "      <td>0.5</td>\n",
       "      <td>13</td>\n",
       "    </tr>\n",
       "    <tr>\n",
       "      <th>28</th>\n",
       "      <td>1/29/17</td>\n",
       "      <td>Sunday</td>\n",
       "      <td>35.2</td>\n",
       "      <td>1.33</td>\n",
       "      <td>27</td>\n",
       "      <td>0.5</td>\n",
       "      <td>14</td>\n",
       "    </tr>\n",
       "    <tr>\n",
       "      <th>337</th>\n",
       "      <td>12/4/17</td>\n",
       "      <td>Monday</td>\n",
       "      <td>34.9</td>\n",
       "      <td>1.54</td>\n",
       "      <td>16</td>\n",
       "      <td>0.5</td>\n",
       "      <td>13</td>\n",
       "    </tr>\n",
       "    <tr>\n",
       "      <th>338</th>\n",
       "      <td>12/5/17</td>\n",
       "      <td>Tuesday</td>\n",
       "      <td>22.0</td>\n",
       "      <td>1.82</td>\n",
       "      <td>11</td>\n",
       "      <td>0.5</td>\n",
       "      <td>10</td>\n",
       "    </tr>\n",
       "    <tr>\n",
       "      <th>342</th>\n",
       "      <td>12/9/17</td>\n",
       "      <td>Saturday</td>\n",
       "      <td>31.2</td>\n",
       "      <td>1.43</td>\n",
       "      <td>19</td>\n",
       "      <td>0.5</td>\n",
       "      <td>14</td>\n",
       "    </tr>\n",
       "    <tr>\n",
       "      <th>343</th>\n",
       "      <td>12/10/17</td>\n",
       "      <td>Sunday</td>\n",
       "      <td>31.3</td>\n",
       "      <td>1.82</td>\n",
       "      <td>15</td>\n",
       "      <td>0.5</td>\n",
       "      <td>11</td>\n",
       "    </tr>\n",
       "    <tr>\n",
       "      <th>345</th>\n",
       "      <td>12/12/17</td>\n",
       "      <td>Tuesday</td>\n",
       "      <td>33.5</td>\n",
       "      <td>1.33</td>\n",
       "      <td>22</td>\n",
       "      <td>0.5</td>\n",
       "      <td>15</td>\n",
       "    </tr>\n",
       "    <tr>\n",
       "      <th>346</th>\n",
       "      <td>12/13/17</td>\n",
       "      <td>Wednesday</td>\n",
       "      <td>32.2</td>\n",
       "      <td>1.43</td>\n",
       "      <td>26</td>\n",
       "      <td>0.5</td>\n",
       "      <td>14</td>\n",
       "    </tr>\n",
       "    <tr>\n",
       "      <th>347</th>\n",
       "      <td>12/14/17</td>\n",
       "      <td>Thursday</td>\n",
       "      <td>31.9</td>\n",
       "      <td>1.54</td>\n",
       "      <td>24</td>\n",
       "      <td>0.5</td>\n",
       "      <td>13</td>\n",
       "    </tr>\n",
       "    <tr>\n",
       "      <th>350</th>\n",
       "      <td>12/17/17</td>\n",
       "      <td>Sunday</td>\n",
       "      <td>32.2</td>\n",
       "      <td>1.33</td>\n",
       "      <td>16</td>\n",
       "      <td>0.5</td>\n",
       "      <td>14</td>\n",
       "    </tr>\n",
       "    <tr>\n",
       "      <th>351</th>\n",
       "      <td>12/18/17</td>\n",
       "      <td>Monday</td>\n",
       "      <td>30.9</td>\n",
       "      <td>1.43</td>\n",
       "      <td>27</td>\n",
       "      <td>0.5</td>\n",
       "      <td>13</td>\n",
       "    </tr>\n",
       "    <tr>\n",
       "      <th>354</th>\n",
       "      <td>12/21/17</td>\n",
       "      <td>Thursday</td>\n",
       "      <td>40.5</td>\n",
       "      <td>1.33</td>\n",
       "      <td>23</td>\n",
       "      <td>0.5</td>\n",
       "      <td>15</td>\n",
       "    </tr>\n",
       "    <tr>\n",
       "      <th>355</th>\n",
       "      <td>12/22/17</td>\n",
       "      <td>Friday</td>\n",
       "      <td>30.9</td>\n",
       "      <td>1.54</td>\n",
       "      <td>17</td>\n",
       "      <td>0.5</td>\n",
       "      <td>13</td>\n",
       "    </tr>\n",
       "    <tr>\n",
       "      <th>359</th>\n",
       "      <td>12/26/17</td>\n",
       "      <td>Tuesday</td>\n",
       "      <td>28.9</td>\n",
       "      <td>1.43</td>\n",
       "      <td>23</td>\n",
       "      <td>0.5</td>\n",
       "      <td>13</td>\n",
       "    </tr>\n",
       "    <tr>\n",
       "      <th>363</th>\n",
       "      <td>12/30/17</td>\n",
       "      <td>Saturday</td>\n",
       "      <td>30.9</td>\n",
       "      <td>1.43</td>\n",
       "      <td>22</td>\n",
       "      <td>0.5</td>\n",
       "      <td>13</td>\n",
       "    </tr>\n",
       "    <tr>\n",
       "      <th>364</th>\n",
       "      <td>12/31/17</td>\n",
       "      <td>Sunday</td>\n",
       "      <td>15.1</td>\n",
       "      <td>2.50</td>\n",
       "      <td>9</td>\n",
       "      <td>0.5</td>\n",
       "      <td>7</td>\n",
       "    </tr>\n",
       "  </tbody>\n",
       "</table>\n",
       "</div>"
      ],
      "text/plain": [
       "         Date        Day  Temperature  Rainfall  Flyers  Price  Sales\n",
       "0      1/1/17     Sunday         27.0      2.00      15    0.5     10\n",
       "1      1/2/17     Monday         28.9      1.33      15    0.5     13\n",
       "2      1/3/17    Tuesday         34.5      1.33      27    0.5     15\n",
       "5      1/6/17     Friday         25.3      1.54      23    0.5     11\n",
       "6      1/7/17   Saturday         32.9      1.54      19    0.5     13\n",
       "10    1/11/17  Wednesday         32.6      1.54      23    0.5     12\n",
       "11    1/12/17   Thursday         38.2      1.33      16    0.5     14\n",
       "12    1/13/17     Friday         37.5      1.33      19    0.5     15\n",
       "15    1/16/17     Monday         30.6      1.67      24    0.5     12\n",
       "16    1/17/17    Tuesday         32.2      1.43      26    0.5     14\n",
       "19    1/20/17     Friday         31.6      1.43      20    0.5     12\n",
       "23    1/24/17    Tuesday         28.6      1.54      20    0.5     12\n",
       "27    1/28/17   Saturday         34.9      1.33      15    0.5     13\n",
       "28    1/29/17     Sunday         35.2      1.33      27    0.5     14\n",
       "337   12/4/17     Monday         34.9      1.54      16    0.5     13\n",
       "338   12/5/17    Tuesday         22.0      1.82      11    0.5     10\n",
       "342   12/9/17   Saturday         31.2      1.43      19    0.5     14\n",
       "343  12/10/17     Sunday         31.3      1.82      15    0.5     11\n",
       "345  12/12/17    Tuesday         33.5      1.33      22    0.5     15\n",
       "346  12/13/17  Wednesday         32.2      1.43      26    0.5     14\n",
       "347  12/14/17   Thursday         31.9      1.54      24    0.5     13\n",
       "350  12/17/17     Sunday         32.2      1.33      16    0.5     14\n",
       "351  12/18/17     Monday         30.9      1.43      27    0.5     13\n",
       "354  12/21/17   Thursday         40.5      1.33      23    0.5     15\n",
       "355  12/22/17     Friday         30.9      1.54      17    0.5     13\n",
       "359  12/26/17    Tuesday         28.9      1.43      23    0.5     13\n",
       "363  12/30/17   Saturday         30.9      1.43      22    0.5     13\n",
       "364  12/31/17     Sunday         15.1      2.50       9    0.5      7"
      ]
     },
     "execution_count": 39,
     "metadata": {},
     "output_type": "execute_result"
    }
   ],
   "source": [
    "outliers_upper(df, 'Rainfall')"
   ]
  },
  {
   "cell_type": "code",
   "execution_count": 41,
   "id": "a183e9f5-1744-45cd-854e-32acb8f79d9a",
   "metadata": {},
   "outputs": [
    {
     "data": {
      "text/html": [
       "<div>\n",
       "<style scoped>\n",
       "    .dataframe tbody tr th:only-of-type {\n",
       "        vertical-align: middle;\n",
       "    }\n",
       "\n",
       "    .dataframe tbody tr th {\n",
       "        vertical-align: top;\n",
       "    }\n",
       "\n",
       "    .dataframe thead th {\n",
       "        text-align: right;\n",
       "    }\n",
       "</style>\n",
       "<table border=\"1\" class=\"dataframe\">\n",
       "  <thead>\n",
       "    <tr style=\"text-align: right;\">\n",
       "      <th></th>\n",
       "      <th>Date</th>\n",
       "      <th>Day</th>\n",
       "      <th>Temperature</th>\n",
       "      <th>Rainfall</th>\n",
       "      <th>Flyers</th>\n",
       "      <th>Price</th>\n",
       "      <th>Sales</th>\n",
       "    </tr>\n",
       "  </thead>\n",
       "  <tbody>\n",
       "    <tr>\n",
       "      <th>166</th>\n",
       "      <td>6/16/17</td>\n",
       "      <td>Friday</td>\n",
       "      <td>99.3</td>\n",
       "      <td>0.47</td>\n",
       "      <td>77</td>\n",
       "      <td>0.5</td>\n",
       "      <td>41</td>\n",
       "    </tr>\n",
       "    <tr>\n",
       "      <th>194</th>\n",
       "      <td>7/14/17</td>\n",
       "      <td>Friday</td>\n",
       "      <td>92.0</td>\n",
       "      <td>0.50</td>\n",
       "      <td>80</td>\n",
       "      <td>0.5</td>\n",
       "      <td>40</td>\n",
       "    </tr>\n",
       "  </tbody>\n",
       "</table>\n",
       "</div>"
      ],
      "text/plain": [
       "        Date     Day  Temperature  Rainfall  Flyers  Price  Sales\n",
       "166  6/16/17  Friday         99.3      0.47      77    0.5     41\n",
       "194  7/14/17  Friday         92.0      0.50      80    0.5     40"
      ]
     },
     "execution_count": 41,
     "metadata": {},
     "output_type": "execute_result"
    }
   ],
   "source": [
    "outliers_upper(df, 'Flyers')"
   ]
  },
  {
   "cell_type": "code",
   "execution_count": 43,
   "id": "e17b4008-f150-45f9-99b9-dda5f7ced7a1",
   "metadata": {},
   "outputs": [
    {
     "data": {
      "text/html": [
       "<div>\n",
       "<style scoped>\n",
       "    .dataframe tbody tr th:only-of-type {\n",
       "        vertical-align: middle;\n",
       "    }\n",
       "\n",
       "    .dataframe tbody tr th {\n",
       "        vertical-align: top;\n",
       "    }\n",
       "\n",
       "    .dataframe thead th {\n",
       "        text-align: right;\n",
       "    }\n",
       "</style>\n",
       "<table border=\"1\" class=\"dataframe\">\n",
       "  <thead>\n",
       "    <tr style=\"text-align: right;\">\n",
       "      <th></th>\n",
       "      <th>Date</th>\n",
       "      <th>Day</th>\n",
       "      <th>Temperature</th>\n",
       "      <th>Rainfall</th>\n",
       "      <th>Flyers</th>\n",
       "      <th>Price</th>\n",
       "      <th>Sales</th>\n",
       "    </tr>\n",
       "  </thead>\n",
       "  <tbody>\n",
       "  </tbody>\n",
       "</table>\n",
       "</div>"
      ],
      "text/plain": [
       "Empty DataFrame\n",
       "Columns: [Date, Day, Temperature, Rainfall, Flyers, Price, Sales]\n",
       "Index: []"
      ]
     },
     "execution_count": 43,
     "metadata": {},
     "output_type": "execute_result"
    }
   ],
   "source": [
    "outliers_upper(df, 'Price')"
   ]
  },
  {
   "cell_type": "code",
   "execution_count": 45,
   "id": "d9d665ce-84e9-4803-beb6-1bb6bf7bcff1",
   "metadata": {},
   "outputs": [
    {
     "data": {
      "text/html": [
       "<div>\n",
       "<style scoped>\n",
       "    .dataframe tbody tr th:only-of-type {\n",
       "        vertical-align: middle;\n",
       "    }\n",
       "\n",
       "    .dataframe tbody tr th {\n",
       "        vertical-align: top;\n",
       "    }\n",
       "\n",
       "    .dataframe thead th {\n",
       "        text-align: right;\n",
       "    }\n",
       "</style>\n",
       "<table border=\"1\" class=\"dataframe\">\n",
       "  <thead>\n",
       "    <tr style=\"text-align: right;\">\n",
       "      <th></th>\n",
       "      <th>Date</th>\n",
       "      <th>Day</th>\n",
       "      <th>Temperature</th>\n",
       "      <th>Rainfall</th>\n",
       "      <th>Flyers</th>\n",
       "      <th>Price</th>\n",
       "      <th>Sales</th>\n",
       "    </tr>\n",
       "  </thead>\n",
       "  <tbody>\n",
       "    <tr>\n",
       "      <th>181</th>\n",
       "      <td>7/1/17</td>\n",
       "      <td>Saturday</td>\n",
       "      <td>102.9</td>\n",
       "      <td>0.47</td>\n",
       "      <td>59</td>\n",
       "      <td>0.5</td>\n",
       "      <td>143</td>\n",
       "    </tr>\n",
       "    <tr>\n",
       "      <th>182</th>\n",
       "      <td>7/2/17</td>\n",
       "      <td>Sunday</td>\n",
       "      <td>93.4</td>\n",
       "      <td>0.51</td>\n",
       "      <td>68</td>\n",
       "      <td>0.5</td>\n",
       "      <td>158</td>\n",
       "    </tr>\n",
       "    <tr>\n",
       "      <th>183</th>\n",
       "      <td>7/3/17</td>\n",
       "      <td>Monday</td>\n",
       "      <td>81.5</td>\n",
       "      <td>0.54</td>\n",
       "      <td>68</td>\n",
       "      <td>0.5</td>\n",
       "      <td>235</td>\n",
       "    </tr>\n",
       "    <tr>\n",
       "      <th>184</th>\n",
       "      <td>7/4/17</td>\n",
       "      <td>Tuesday</td>\n",
       "      <td>84.2</td>\n",
       "      <td>0.59</td>\n",
       "      <td>49</td>\n",
       "      <td>0.5</td>\n",
       "      <td>534</td>\n",
       "    </tr>\n",
       "  </tbody>\n",
       "</table>\n",
       "</div>"
      ],
      "text/plain": [
       "       Date       Day  Temperature  Rainfall  Flyers  Price  Sales\n",
       "181  7/1/17  Saturday        102.9      0.47      59    0.5    143\n",
       "182  7/2/17    Sunday         93.4      0.51      68    0.5    158\n",
       "183  7/3/17    Monday         81.5      0.54      68    0.5    235\n",
       "184  7/4/17   Tuesday         84.2      0.59      49    0.5    534"
      ]
     },
     "execution_count": 45,
     "metadata": {},
     "output_type": "execute_result"
    }
   ],
   "source": [
    "outliers_upper(df, 'Sales')"
   ]
  },
  {
   "cell_type": "markdown",
   "id": "6150bacb-2719-4731-8dae-1b22a7a74591",
   "metadata": {},
   "source": [
    "- Using the multiplier of 3, IQR Range Rule, and the lower bounds, identify the outliers below the lower bound in each colum of lemonade.csv. Do these lower outliers make sense? Which outliers should be kept?\n"
   ]
  },
  {
   "cell_type": "code",
   "execution_count": 50,
   "id": "ede3b1c2-7f67-4618-95bc-b12a85164ef0",
   "metadata": {},
   "outputs": [
    {
     "data": {
      "text/html": [
       "<div>\n",
       "<style scoped>\n",
       "    .dataframe tbody tr th:only-of-type {\n",
       "        vertical-align: middle;\n",
       "    }\n",
       "\n",
       "    .dataframe tbody tr th {\n",
       "        vertical-align: top;\n",
       "    }\n",
       "\n",
       "    .dataframe thead th {\n",
       "        text-align: right;\n",
       "    }\n",
       "</style>\n",
       "<table border=\"1\" class=\"dataframe\">\n",
       "  <thead>\n",
       "    <tr style=\"text-align: right;\">\n",
       "      <th></th>\n",
       "      <th>Date</th>\n",
       "      <th>Day</th>\n",
       "      <th>Temperature</th>\n",
       "      <th>Rainfall</th>\n",
       "      <th>Flyers</th>\n",
       "      <th>Price</th>\n",
       "      <th>Sales</th>\n",
       "    </tr>\n",
       "  </thead>\n",
       "  <tbody>\n",
       "  </tbody>\n",
       "</table>\n",
       "</div>"
      ],
      "text/plain": [
       "Empty DataFrame\n",
       "Columns: [Date, Day, Temperature, Rainfall, Flyers, Price, Sales]\n",
       "Index: []"
      ]
     },
     "execution_count": 50,
     "metadata": {},
     "output_type": "execute_result"
    }
   ],
   "source": [
    "outliers_lower(df, 'Temperature', multiplier=3)"
   ]
  },
  {
   "cell_type": "code",
   "execution_count": 51,
   "id": "26259371-996d-41a5-9c72-440042fd5ad6",
   "metadata": {},
   "outputs": [
    {
     "data": {
      "text/html": [
       "<div>\n",
       "<style scoped>\n",
       "    .dataframe tbody tr th:only-of-type {\n",
       "        vertical-align: middle;\n",
       "    }\n",
       "\n",
       "    .dataframe tbody tr th {\n",
       "        vertical-align: top;\n",
       "    }\n",
       "\n",
       "    .dataframe thead th {\n",
       "        text-align: right;\n",
       "    }\n",
       "</style>\n",
       "<table border=\"1\" class=\"dataframe\">\n",
       "  <thead>\n",
       "    <tr style=\"text-align: right;\">\n",
       "      <th></th>\n",
       "      <th>Date</th>\n",
       "      <th>Day</th>\n",
       "      <th>Temperature</th>\n",
       "      <th>Rainfall</th>\n",
       "      <th>Flyers</th>\n",
       "      <th>Price</th>\n",
       "      <th>Sales</th>\n",
       "    </tr>\n",
       "  </thead>\n",
       "  <tbody>\n",
       "  </tbody>\n",
       "</table>\n",
       "</div>"
      ],
      "text/plain": [
       "Empty DataFrame\n",
       "Columns: [Date, Day, Temperature, Rainfall, Flyers, Price, Sales]\n",
       "Index: []"
      ]
     },
     "execution_count": 51,
     "metadata": {},
     "output_type": "execute_result"
    }
   ],
   "source": [
    "outliers_lower(df, 'Rainfall', multiplier=3)"
   ]
  },
  {
   "cell_type": "code",
   "execution_count": 52,
   "id": "e4165e9c-4e03-4a23-98aa-ceacfb9ca16c",
   "metadata": {},
   "outputs": [
    {
     "data": {
      "text/html": [
       "<div>\n",
       "<style scoped>\n",
       "    .dataframe tbody tr th:only-of-type {\n",
       "        vertical-align: middle;\n",
       "    }\n",
       "\n",
       "    .dataframe tbody tr th {\n",
       "        vertical-align: top;\n",
       "    }\n",
       "\n",
       "    .dataframe thead th {\n",
       "        text-align: right;\n",
       "    }\n",
       "</style>\n",
       "<table border=\"1\" class=\"dataframe\">\n",
       "  <thead>\n",
       "    <tr style=\"text-align: right;\">\n",
       "      <th></th>\n",
       "      <th>Date</th>\n",
       "      <th>Day</th>\n",
       "      <th>Temperature</th>\n",
       "      <th>Rainfall</th>\n",
       "      <th>Flyers</th>\n",
       "      <th>Price</th>\n",
       "      <th>Sales</th>\n",
       "    </tr>\n",
       "  </thead>\n",
       "  <tbody>\n",
       "    <tr>\n",
       "      <th>324</th>\n",
       "      <td>11/21/17</td>\n",
       "      <td>Tuesday</td>\n",
       "      <td>47.0</td>\n",
       "      <td>0.95</td>\n",
       "      <td>-38</td>\n",
       "      <td>0.5</td>\n",
       "      <td>20</td>\n",
       "    </tr>\n",
       "  </tbody>\n",
       "</table>\n",
       "</div>"
      ],
      "text/plain": [
       "         Date      Day  Temperature  Rainfall  Flyers  Price  Sales\n",
       "324  11/21/17  Tuesday         47.0      0.95     -38    0.5     20"
      ]
     },
     "execution_count": 52,
     "metadata": {},
     "output_type": "execute_result"
    }
   ],
   "source": [
    "outliers_lower(df, 'Flyers', multiplier=3)"
   ]
  },
  {
   "cell_type": "code",
   "execution_count": 53,
   "id": "2f0eeb9e-508c-4565-857b-c4c87f3b8ad2",
   "metadata": {},
   "outputs": [
    {
     "data": {
      "text/html": [
       "<div>\n",
       "<style scoped>\n",
       "    .dataframe tbody tr th:only-of-type {\n",
       "        vertical-align: middle;\n",
       "    }\n",
       "\n",
       "    .dataframe tbody tr th {\n",
       "        vertical-align: top;\n",
       "    }\n",
       "\n",
       "    .dataframe thead th {\n",
       "        text-align: right;\n",
       "    }\n",
       "</style>\n",
       "<table border=\"1\" class=\"dataframe\">\n",
       "  <thead>\n",
       "    <tr style=\"text-align: right;\">\n",
       "      <th></th>\n",
       "      <th>Date</th>\n",
       "      <th>Day</th>\n",
       "      <th>Temperature</th>\n",
       "      <th>Rainfall</th>\n",
       "      <th>Flyers</th>\n",
       "      <th>Price</th>\n",
       "      <th>Sales</th>\n",
       "    </tr>\n",
       "  </thead>\n",
       "  <tbody>\n",
       "  </tbody>\n",
       "</table>\n",
       "</div>"
      ],
      "text/plain": [
       "Empty DataFrame\n",
       "Columns: [Date, Day, Temperature, Rainfall, Flyers, Price, Sales]\n",
       "Index: []"
      ]
     },
     "execution_count": 53,
     "metadata": {},
     "output_type": "execute_result"
    }
   ],
   "source": [
    "outliers_lower(df, 'Price', multiplier=3)"
   ]
  },
  {
   "cell_type": "code",
   "execution_count": 54,
   "id": "506fec6a-0a2b-4cec-9cb3-7bd03766ff92",
   "metadata": {},
   "outputs": [
    {
     "data": {
      "text/html": [
       "<div>\n",
       "<style scoped>\n",
       "    .dataframe tbody tr th:only-of-type {\n",
       "        vertical-align: middle;\n",
       "    }\n",
       "\n",
       "    .dataframe tbody tr th {\n",
       "        vertical-align: top;\n",
       "    }\n",
       "\n",
       "    .dataframe thead th {\n",
       "        text-align: right;\n",
       "    }\n",
       "</style>\n",
       "<table border=\"1\" class=\"dataframe\">\n",
       "  <thead>\n",
       "    <tr style=\"text-align: right;\">\n",
       "      <th></th>\n",
       "      <th>Date</th>\n",
       "      <th>Day</th>\n",
       "      <th>Temperature</th>\n",
       "      <th>Rainfall</th>\n",
       "      <th>Flyers</th>\n",
       "      <th>Price</th>\n",
       "      <th>Sales</th>\n",
       "    </tr>\n",
       "  </thead>\n",
       "  <tbody>\n",
       "  </tbody>\n",
       "</table>\n",
       "</div>"
      ],
      "text/plain": [
       "Empty DataFrame\n",
       "Columns: [Date, Day, Temperature, Rainfall, Flyers, Price, Sales]\n",
       "Index: []"
      ]
     },
     "execution_count": 54,
     "metadata": {},
     "output_type": "execute_result"
    }
   ],
   "source": [
    "outliers_lower(df, 'Sales', multiplier=3)"
   ]
  },
  {
   "cell_type": "markdown",
   "id": "fbac743a-00b4-4d98-bf7c-0c8262e7169e",
   "metadata": {},
   "source": [
    "- Using the multiplier of 3, IQR Range Rule, and the upper bounds, identify the outliers above the upper_bound in each colum of lemonade.csv. Do these upper outliers make sense? Which outliers should be kept?"
   ]
  },
  {
   "cell_type": "code",
   "execution_count": 55,
   "id": "55602de9-d69b-459c-bbe4-208229e2c587",
   "metadata": {},
   "outputs": [
    {
     "data": {
      "text/html": [
       "<div>\n",
       "<style scoped>\n",
       "    .dataframe tbody tr th:only-of-type {\n",
       "        vertical-align: middle;\n",
       "    }\n",
       "\n",
       "    .dataframe tbody tr th {\n",
       "        vertical-align: top;\n",
       "    }\n",
       "\n",
       "    .dataframe thead th {\n",
       "        text-align: right;\n",
       "    }\n",
       "</style>\n",
       "<table border=\"1\" class=\"dataframe\">\n",
       "  <thead>\n",
       "    <tr style=\"text-align: right;\">\n",
       "      <th></th>\n",
       "      <th>Date</th>\n",
       "      <th>Day</th>\n",
       "      <th>Temperature</th>\n",
       "      <th>Rainfall</th>\n",
       "      <th>Flyers</th>\n",
       "      <th>Price</th>\n",
       "      <th>Sales</th>\n",
       "    </tr>\n",
       "  </thead>\n",
       "  <tbody>\n",
       "    <tr>\n",
       "      <th>41</th>\n",
       "      <td>2/11/17</td>\n",
       "      <td>Saturday</td>\n",
       "      <td>212.0</td>\n",
       "      <td>0.91</td>\n",
       "      <td>35</td>\n",
       "      <td>0.5</td>\n",
       "      <td>21</td>\n",
       "    </tr>\n",
       "  </tbody>\n",
       "</table>\n",
       "</div>"
      ],
      "text/plain": [
       "       Date       Day  Temperature  Rainfall  Flyers  Price  Sales\n",
       "41  2/11/17  Saturday        212.0      0.91      35    0.5     21"
      ]
     },
     "execution_count": 55,
     "metadata": {},
     "output_type": "execute_result"
    }
   ],
   "source": [
    "outliers_upper(df, 'Temperature', multiplier=3)"
   ]
  },
  {
   "cell_type": "code",
   "execution_count": 56,
   "id": "b09b6250-0ccf-45c8-8f1f-cc744754d959",
   "metadata": {},
   "outputs": [
    {
     "data": {
      "text/html": [
       "<div>\n",
       "<style scoped>\n",
       "    .dataframe tbody tr th:only-of-type {\n",
       "        vertical-align: middle;\n",
       "    }\n",
       "\n",
       "    .dataframe tbody tr th {\n",
       "        vertical-align: top;\n",
       "    }\n",
       "\n",
       "    .dataframe thead th {\n",
       "        text-align: right;\n",
       "    }\n",
       "</style>\n",
       "<table border=\"1\" class=\"dataframe\">\n",
       "  <thead>\n",
       "    <tr style=\"text-align: right;\">\n",
       "      <th></th>\n",
       "      <th>Date</th>\n",
       "      <th>Day</th>\n",
       "      <th>Temperature</th>\n",
       "      <th>Rainfall</th>\n",
       "      <th>Flyers</th>\n",
       "      <th>Price</th>\n",
       "      <th>Sales</th>\n",
       "    </tr>\n",
       "  </thead>\n",
       "  <tbody>\n",
       "    <tr>\n",
       "      <th>0</th>\n",
       "      <td>1/1/17</td>\n",
       "      <td>Sunday</td>\n",
       "      <td>27.0</td>\n",
       "      <td>2.00</td>\n",
       "      <td>15</td>\n",
       "      <td>0.5</td>\n",
       "      <td>10</td>\n",
       "    </tr>\n",
       "    <tr>\n",
       "      <th>338</th>\n",
       "      <td>12/5/17</td>\n",
       "      <td>Tuesday</td>\n",
       "      <td>22.0</td>\n",
       "      <td>1.82</td>\n",
       "      <td>11</td>\n",
       "      <td>0.5</td>\n",
       "      <td>10</td>\n",
       "    </tr>\n",
       "    <tr>\n",
       "      <th>343</th>\n",
       "      <td>12/10/17</td>\n",
       "      <td>Sunday</td>\n",
       "      <td>31.3</td>\n",
       "      <td>1.82</td>\n",
       "      <td>15</td>\n",
       "      <td>0.5</td>\n",
       "      <td>11</td>\n",
       "    </tr>\n",
       "    <tr>\n",
       "      <th>364</th>\n",
       "      <td>12/31/17</td>\n",
       "      <td>Sunday</td>\n",
       "      <td>15.1</td>\n",
       "      <td>2.50</td>\n",
       "      <td>9</td>\n",
       "      <td>0.5</td>\n",
       "      <td>7</td>\n",
       "    </tr>\n",
       "  </tbody>\n",
       "</table>\n",
       "</div>"
      ],
      "text/plain": [
       "         Date      Day  Temperature  Rainfall  Flyers  Price  Sales\n",
       "0      1/1/17   Sunday         27.0      2.00      15    0.5     10\n",
       "338   12/5/17  Tuesday         22.0      1.82      11    0.5     10\n",
       "343  12/10/17   Sunday         31.3      1.82      15    0.5     11\n",
       "364  12/31/17   Sunday         15.1      2.50       9    0.5      7"
      ]
     },
     "execution_count": 56,
     "metadata": {},
     "output_type": "execute_result"
    }
   ],
   "source": [
    "outliers_upper(df, 'Rainfall', multiplier=3)"
   ]
  },
  {
   "cell_type": "code",
   "execution_count": 57,
   "id": "60d0bd6f-71d1-4edb-944b-badfc62ff61a",
   "metadata": {},
   "outputs": [
    {
     "data": {
      "text/html": [
       "<div>\n",
       "<style scoped>\n",
       "    .dataframe tbody tr th:only-of-type {\n",
       "        vertical-align: middle;\n",
       "    }\n",
       "\n",
       "    .dataframe tbody tr th {\n",
       "        vertical-align: top;\n",
       "    }\n",
       "\n",
       "    .dataframe thead th {\n",
       "        text-align: right;\n",
       "    }\n",
       "</style>\n",
       "<table border=\"1\" class=\"dataframe\">\n",
       "  <thead>\n",
       "    <tr style=\"text-align: right;\">\n",
       "      <th></th>\n",
       "      <th>Date</th>\n",
       "      <th>Day</th>\n",
       "      <th>Temperature</th>\n",
       "      <th>Rainfall</th>\n",
       "      <th>Flyers</th>\n",
       "      <th>Price</th>\n",
       "      <th>Sales</th>\n",
       "    </tr>\n",
       "  </thead>\n",
       "  <tbody>\n",
       "  </tbody>\n",
       "</table>\n",
       "</div>"
      ],
      "text/plain": [
       "Empty DataFrame\n",
       "Columns: [Date, Day, Temperature, Rainfall, Flyers, Price, Sales]\n",
       "Index: []"
      ]
     },
     "execution_count": 57,
     "metadata": {},
     "output_type": "execute_result"
    }
   ],
   "source": [
    "outliers_upper(df, 'Flyers', multiplier=3)"
   ]
  },
  {
   "cell_type": "code",
   "execution_count": 58,
   "id": "0d4f3ab4-5421-4b3b-ab2f-03198abdb76b",
   "metadata": {},
   "outputs": [
    {
     "data": {
      "text/html": [
       "<div>\n",
       "<style scoped>\n",
       "    .dataframe tbody tr th:only-of-type {\n",
       "        vertical-align: middle;\n",
       "    }\n",
       "\n",
       "    .dataframe tbody tr th {\n",
       "        vertical-align: top;\n",
       "    }\n",
       "\n",
       "    .dataframe thead th {\n",
       "        text-align: right;\n",
       "    }\n",
       "</style>\n",
       "<table border=\"1\" class=\"dataframe\">\n",
       "  <thead>\n",
       "    <tr style=\"text-align: right;\">\n",
       "      <th></th>\n",
       "      <th>Date</th>\n",
       "      <th>Day</th>\n",
       "      <th>Temperature</th>\n",
       "      <th>Rainfall</th>\n",
       "      <th>Flyers</th>\n",
       "      <th>Price</th>\n",
       "      <th>Sales</th>\n",
       "    </tr>\n",
       "  </thead>\n",
       "  <tbody>\n",
       "  </tbody>\n",
       "</table>\n",
       "</div>"
      ],
      "text/plain": [
       "Empty DataFrame\n",
       "Columns: [Date, Day, Temperature, Rainfall, Flyers, Price, Sales]\n",
       "Index: []"
      ]
     },
     "execution_count": 58,
     "metadata": {},
     "output_type": "execute_result"
    }
   ],
   "source": [
    "outliers_upper(df, 'Price', multiplier=3)"
   ]
  },
  {
   "cell_type": "code",
   "execution_count": 59,
   "id": "b0f0a08b-2218-4300-9a05-3beab9a9ed55",
   "metadata": {},
   "outputs": [
    {
     "data": {
      "text/html": [
       "<div>\n",
       "<style scoped>\n",
       "    .dataframe tbody tr th:only-of-type {\n",
       "        vertical-align: middle;\n",
       "    }\n",
       "\n",
       "    .dataframe tbody tr th {\n",
       "        vertical-align: top;\n",
       "    }\n",
       "\n",
       "    .dataframe thead th {\n",
       "        text-align: right;\n",
       "    }\n",
       "</style>\n",
       "<table border=\"1\" class=\"dataframe\">\n",
       "  <thead>\n",
       "    <tr style=\"text-align: right;\">\n",
       "      <th></th>\n",
       "      <th>Date</th>\n",
       "      <th>Day</th>\n",
       "      <th>Temperature</th>\n",
       "      <th>Rainfall</th>\n",
       "      <th>Flyers</th>\n",
       "      <th>Price</th>\n",
       "      <th>Sales</th>\n",
       "    </tr>\n",
       "  </thead>\n",
       "  <tbody>\n",
       "    <tr>\n",
       "      <th>181</th>\n",
       "      <td>7/1/17</td>\n",
       "      <td>Saturday</td>\n",
       "      <td>102.9</td>\n",
       "      <td>0.47</td>\n",
       "      <td>59</td>\n",
       "      <td>0.5</td>\n",
       "      <td>143</td>\n",
       "    </tr>\n",
       "    <tr>\n",
       "      <th>182</th>\n",
       "      <td>7/2/17</td>\n",
       "      <td>Sunday</td>\n",
       "      <td>93.4</td>\n",
       "      <td>0.51</td>\n",
       "      <td>68</td>\n",
       "      <td>0.5</td>\n",
       "      <td>158</td>\n",
       "    </tr>\n",
       "    <tr>\n",
       "      <th>183</th>\n",
       "      <td>7/3/17</td>\n",
       "      <td>Monday</td>\n",
       "      <td>81.5</td>\n",
       "      <td>0.54</td>\n",
       "      <td>68</td>\n",
       "      <td>0.5</td>\n",
       "      <td>235</td>\n",
       "    </tr>\n",
       "    <tr>\n",
       "      <th>184</th>\n",
       "      <td>7/4/17</td>\n",
       "      <td>Tuesday</td>\n",
       "      <td>84.2</td>\n",
       "      <td>0.59</td>\n",
       "      <td>49</td>\n",
       "      <td>0.5</td>\n",
       "      <td>534</td>\n",
       "    </tr>\n",
       "  </tbody>\n",
       "</table>\n",
       "</div>"
      ],
      "text/plain": [
       "       Date       Day  Temperature  Rainfall  Flyers  Price  Sales\n",
       "181  7/1/17  Saturday        102.9      0.47      59    0.5    143\n",
       "182  7/2/17    Sunday         93.4      0.51      68    0.5    158\n",
       "183  7/3/17    Monday         81.5      0.54      68    0.5    235\n",
       "184  7/4/17   Tuesday         84.2      0.59      49    0.5    534"
      ]
     },
     "execution_count": 59,
     "metadata": {},
     "output_type": "execute_result"
    }
   ],
   "source": [
    "outliers_upper(df, 'Sales', multiplier=3)"
   ]
  },
  {
   "cell_type": "markdown",
   "id": "01a2f6b1-a5b7-4e95-9c0e-7e16c83e87e8",
   "metadata": {},
   "source": [
    "#### 2. Identify if any columns in lemonade.csv are normally distributed. For normally distributed columns:"
   ]
  },
  {
   "cell_type": "markdown",
   "id": "12f37e3e-ecea-4fe8-a840-7f0e38e2bb62",
   "metadata": {},
   "source": [
    "- Use a 2 sigma decision rule to isolate the outliers.\n",
    "    - Do these make sense?\n",
    "    - Should certain outliers be kept or removed?"
   ]
  },
  {
   "cell_type": "code",
   "execution_count": 60,
   "id": "8076ee6c-5212-44fb-aa8d-31cf0a5d4451",
   "metadata": {},
   "outputs": [
    {
     "data": {
      "image/png": "[encoded data removed]",
      "text/plain": [
       "<Figure size 640x480 with 1 Axes>"
      ]
     },
     "metadata": {},
     "output_type": "display_data"
    },
    {
     "name": "stdout",
     "output_type": "stream",
     "text": [
      "------------\n"
     ]
    },
    {
     "data": {
      "image/png": "[encoded data removed]",
      "text/plain": [
       "<Figure size 640x480 with 1 Axes>"
      ]
     },
     "metadata": {},
     "output_type": "display_data"
    },
    {
     "name": "stdout",
     "output_type": "stream",
     "text": [
      "------------\n"
     ]
    },
    {
     "data": {
      "image/png": "[encoded data removed]",
      "text/plain": [
       "<Figure size 640x480 with 1 Axes>"
      ]
     },
     "metadata": {},
     "output_type": "display_data"
    },
    {
     "name": "stdout",
     "output_type": "stream",
     "text": [
      "------------\n"
     ]
    },
    {
     "data": {
      "image/png": "[encoded data removed]",
      "text/plain": [
       "<Figure size 640x480 with 1 Axes>"
      ]
     },
     "metadata": {},
     "output_type": "display_data"
    },
    {
     "name": "stdout",
     "output_type": "stream",
     "text": [
      "------------\n"
     ]
    },
    {
     "data": {
      "image/png": "[encoded data removed]",
      "text/plain": [
       "<Figure size 640x480 with 1 Axes>"
      ]
     },
     "metadata": {},
     "output_type": "display_data"
    },
    {
     "name": "stdout",
     "output_type": "stream",
     "text": [
      "------------\n"
     ]
    },
    {
     "data": {
      "image/png": "[encoded data removed]",
      "text/plain": [
       "<Figure size 640x480 with 1 Axes>"
      ]
     },
     "metadata": {},
     "output_type": "display_data"
    },
    {
     "name": "stdout",
     "output_type": "stream",
     "text": [
      "------------\n"
     ]
    },
    {
     "data": {
      "image/png": "[encoded data removed]",
      "text/plain": [
       "<Figure size 640x480 with 1 Axes>"
      ]
     },
     "metadata": {},
     "output_type": "display_data"
    },
    {
     "name": "stdout",
     "output_type": "stream",
     "text": [
      "------------\n"
     ]
    }
   ],
   "source": [
    "cols = df.columns.to_list()\n",
    "\n",
    "for col in cols:\n",
    "    plt.hist(df[col])\n",
    "    plt.title(col.capitalize())\n",
    "    plt.show()\n",
    "    print('------------')"
   ]
  },
  {
   "cell_type": "code",
   "execution_count": 74,
   "id": "f66123fe-98cd-4b22-b6a5-a4eca6e853a2",
   "metadata": {},
   "outputs": [],
   "source": [
    "def outliers_2std(df, var):\n",
    "    mean = df[var].mean()\n",
    "    std = df[var].std()\n",
    "    lower_bound = mean - (2 * std)\n",
    "    upper_bound = mean + (2 * std)\n",
    "    outliers = df[(df[var] < lower_bound) | (df[var] > upper_bound)]\n",
    "    return outliers"
   ]
  },
  {
   "cell_type": "code",
   "execution_count": 75,
   "id": "61478394-bd2d-4d9b-9c16-8aad1e887a29",
   "metadata": {},
   "outputs": [
    {
     "data": {
      "text/html": [
       "<div>\n",
       "<style scoped>\n",
       "    .dataframe tbody tr th:only-of-type {\n",
       "        vertical-align: middle;\n",
       "    }\n",
       "\n",
       "    .dataframe tbody tr th {\n",
       "        vertical-align: top;\n",
       "    }\n",
       "\n",
       "    .dataframe thead th {\n",
       "        text-align: right;\n",
       "    }\n",
       "</style>\n",
       "<table border=\"1\" class=\"dataframe\">\n",
       "  <thead>\n",
       "    <tr style=\"text-align: right;\">\n",
       "      <th></th>\n",
       "      <th>Date</th>\n",
       "      <th>Day</th>\n",
       "      <th>Temperature</th>\n",
       "      <th>Rainfall</th>\n",
       "      <th>Flyers</th>\n",
       "      <th>Price</th>\n",
       "      <th>Sales</th>\n",
       "    </tr>\n",
       "  </thead>\n",
       "  <tbody>\n",
       "    <tr>\n",
       "      <th>41</th>\n",
       "      <td>2/11/17</td>\n",
       "      <td>Saturday</td>\n",
       "      <td>212.0</td>\n",
       "      <td>0.91</td>\n",
       "      <td>35</td>\n",
       "      <td>0.5</td>\n",
       "      <td>21</td>\n",
       "    </tr>\n",
       "    <tr>\n",
       "      <th>166</th>\n",
       "      <td>6/16/17</td>\n",
       "      <td>Friday</td>\n",
       "      <td>99.3</td>\n",
       "      <td>0.47</td>\n",
       "      <td>77</td>\n",
       "      <td>0.5</td>\n",
       "      <td>41</td>\n",
       "    </tr>\n",
       "    <tr>\n",
       "      <th>176</th>\n",
       "      <td>6/26/17</td>\n",
       "      <td>Monday</td>\n",
       "      <td>102.6</td>\n",
       "      <td>0.47</td>\n",
       "      <td>60</td>\n",
       "      <td>0.5</td>\n",
       "      <td>42</td>\n",
       "    </tr>\n",
       "    <tr>\n",
       "      <th>181</th>\n",
       "      <td>7/1/17</td>\n",
       "      <td>Saturday</td>\n",
       "      <td>102.9</td>\n",
       "      <td>0.47</td>\n",
       "      <td>59</td>\n",
       "      <td>0.5</td>\n",
       "      <td>143</td>\n",
       "    </tr>\n",
       "    <tr>\n",
       "      <th>190</th>\n",
       "      <td>7/10/17</td>\n",
       "      <td>Monday</td>\n",
       "      <td>98.0</td>\n",
       "      <td>0.49</td>\n",
       "      <td>66</td>\n",
       "      <td>0.5</td>\n",
       "      <td>40</td>\n",
       "    </tr>\n",
       "    <tr>\n",
       "      <th>198</th>\n",
       "      <td>7/18/17</td>\n",
       "      <td>Tuesday</td>\n",
       "      <td>99.3</td>\n",
       "      <td>0.47</td>\n",
       "      <td>76</td>\n",
       "      <td>0.5</td>\n",
       "      <td>41</td>\n",
       "    </tr>\n",
       "    <tr>\n",
       "      <th>202</th>\n",
       "      <td>7/22/17</td>\n",
       "      <td>Saturday</td>\n",
       "      <td>99.6</td>\n",
       "      <td>0.47</td>\n",
       "      <td>49</td>\n",
       "      <td>0.5</td>\n",
       "      <td>42</td>\n",
       "    </tr>\n",
       "    <tr>\n",
       "      <th>207</th>\n",
       "      <td>7/27/17</td>\n",
       "      <td>Thursday</td>\n",
       "      <td>97.9</td>\n",
       "      <td>0.47</td>\n",
       "      <td>74</td>\n",
       "      <td>0.5</td>\n",
       "      <td>43</td>\n",
       "    </tr>\n",
       "    <tr>\n",
       "      <th>338</th>\n",
       "      <td>12/5/17</td>\n",
       "      <td>Tuesday</td>\n",
       "      <td>22.0</td>\n",
       "      <td>1.82</td>\n",
       "      <td>11</td>\n",
       "      <td>0.5</td>\n",
       "      <td>10</td>\n",
       "    </tr>\n",
       "    <tr>\n",
       "      <th>364</th>\n",
       "      <td>12/31/17</td>\n",
       "      <td>Sunday</td>\n",
       "      <td>15.1</td>\n",
       "      <td>2.50</td>\n",
       "      <td>9</td>\n",
       "      <td>0.5</td>\n",
       "      <td>7</td>\n",
       "    </tr>\n",
       "  </tbody>\n",
       "</table>\n",
       "</div>"
      ],
      "text/plain": [
       "         Date       Day  Temperature  Rainfall  Flyers  Price  Sales\n",
       "41    2/11/17  Saturday        212.0      0.91      35    0.5     21\n",
       "166   6/16/17    Friday         99.3      0.47      77    0.5     41\n",
       "176   6/26/17    Monday        102.6      0.47      60    0.5     42\n",
       "181    7/1/17  Saturday        102.9      0.47      59    0.5    143\n",
       "190   7/10/17    Monday         98.0      0.49      66    0.5     40\n",
       "198   7/18/17   Tuesday         99.3      0.47      76    0.5     41\n",
       "202   7/22/17  Saturday         99.6      0.47      49    0.5     42\n",
       "207   7/27/17  Thursday         97.9      0.47      74    0.5     43\n",
       "338   12/5/17   Tuesday         22.0      1.82      11    0.5     10\n",
       "364  12/31/17    Sunday         15.1      2.50       9    0.5      7"
      ]
     },
     "execution_count": 75,
     "metadata": {},
     "output_type": "execute_result"
    }
   ],
   "source": [
    "outliers_2std(df, 'Temperature')"
   ]
  },
  {
   "cell_type": "code",
   "execution_count": 76,
   "id": "080149d9-f706-4467-9837-e52a7ac79feb",
   "metadata": {},
   "outputs": [
    {
     "data": {
      "text/html": [
       "<div>\n",
       "<style scoped>\n",
       "    .dataframe tbody tr th:only-of-type {\n",
       "        vertical-align: middle;\n",
       "    }\n",
       "\n",
       "    .dataframe tbody tr th {\n",
       "        vertical-align: top;\n",
       "    }\n",
       "\n",
       "    .dataframe thead th {\n",
       "        text-align: right;\n",
       "    }\n",
       "</style>\n",
       "<table border=\"1\" class=\"dataframe\">\n",
       "  <thead>\n",
       "    <tr style=\"text-align: right;\">\n",
       "      <th></th>\n",
       "      <th>Date</th>\n",
       "      <th>Day</th>\n",
       "      <th>Temperature</th>\n",
       "      <th>Rainfall</th>\n",
       "      <th>Flyers</th>\n",
       "      <th>Price</th>\n",
       "      <th>Sales</th>\n",
       "    </tr>\n",
       "  </thead>\n",
       "  <tbody>\n",
       "    <tr>\n",
       "      <th>0</th>\n",
       "      <td>1/1/17</td>\n",
       "      <td>Sunday</td>\n",
       "      <td>27.0</td>\n",
       "      <td>2.00</td>\n",
       "      <td>15</td>\n",
       "      <td>0.5</td>\n",
       "      <td>10</td>\n",
       "    </tr>\n",
       "    <tr>\n",
       "      <th>5</th>\n",
       "      <td>1/6/17</td>\n",
       "      <td>Friday</td>\n",
       "      <td>25.3</td>\n",
       "      <td>1.54</td>\n",
       "      <td>23</td>\n",
       "      <td>0.5</td>\n",
       "      <td>11</td>\n",
       "    </tr>\n",
       "    <tr>\n",
       "      <th>6</th>\n",
       "      <td>1/7/17</td>\n",
       "      <td>Saturday</td>\n",
       "      <td>32.9</td>\n",
       "      <td>1.54</td>\n",
       "      <td>19</td>\n",
       "      <td>0.5</td>\n",
       "      <td>13</td>\n",
       "    </tr>\n",
       "    <tr>\n",
       "      <th>10</th>\n",
       "      <td>1/11/17</td>\n",
       "      <td>Wednesday</td>\n",
       "      <td>32.6</td>\n",
       "      <td>1.54</td>\n",
       "      <td>23</td>\n",
       "      <td>0.5</td>\n",
       "      <td>12</td>\n",
       "    </tr>\n",
       "    <tr>\n",
       "      <th>15</th>\n",
       "      <td>1/16/17</td>\n",
       "      <td>Monday</td>\n",
       "      <td>30.6</td>\n",
       "      <td>1.67</td>\n",
       "      <td>24</td>\n",
       "      <td>0.5</td>\n",
       "      <td>12</td>\n",
       "    </tr>\n",
       "    <tr>\n",
       "      <th>16</th>\n",
       "      <td>1/17/17</td>\n",
       "      <td>Tuesday</td>\n",
       "      <td>32.2</td>\n",
       "      <td>1.43</td>\n",
       "      <td>26</td>\n",
       "      <td>0.5</td>\n",
       "      <td>14</td>\n",
       "    </tr>\n",
       "    <tr>\n",
       "      <th>19</th>\n",
       "      <td>1/20/17</td>\n",
       "      <td>Friday</td>\n",
       "      <td>31.6</td>\n",
       "      <td>1.43</td>\n",
       "      <td>20</td>\n",
       "      <td>0.5</td>\n",
       "      <td>12</td>\n",
       "    </tr>\n",
       "    <tr>\n",
       "      <th>23</th>\n",
       "      <td>1/24/17</td>\n",
       "      <td>Tuesday</td>\n",
       "      <td>28.6</td>\n",
       "      <td>1.54</td>\n",
       "      <td>20</td>\n",
       "      <td>0.5</td>\n",
       "      <td>12</td>\n",
       "    </tr>\n",
       "    <tr>\n",
       "      <th>337</th>\n",
       "      <td>12/4/17</td>\n",
       "      <td>Monday</td>\n",
       "      <td>34.9</td>\n",
       "      <td>1.54</td>\n",
       "      <td>16</td>\n",
       "      <td>0.5</td>\n",
       "      <td>13</td>\n",
       "    </tr>\n",
       "    <tr>\n",
       "      <th>338</th>\n",
       "      <td>12/5/17</td>\n",
       "      <td>Tuesday</td>\n",
       "      <td>22.0</td>\n",
       "      <td>1.82</td>\n",
       "      <td>11</td>\n",
       "      <td>0.5</td>\n",
       "      <td>10</td>\n",
       "    </tr>\n",
       "    <tr>\n",
       "      <th>342</th>\n",
       "      <td>12/9/17</td>\n",
       "      <td>Saturday</td>\n",
       "      <td>31.2</td>\n",
       "      <td>1.43</td>\n",
       "      <td>19</td>\n",
       "      <td>0.5</td>\n",
       "      <td>14</td>\n",
       "    </tr>\n",
       "    <tr>\n",
       "      <th>343</th>\n",
       "      <td>12/10/17</td>\n",
       "      <td>Sunday</td>\n",
       "      <td>31.3</td>\n",
       "      <td>1.82</td>\n",
       "      <td>15</td>\n",
       "      <td>0.5</td>\n",
       "      <td>11</td>\n",
       "    </tr>\n",
       "    <tr>\n",
       "      <th>346</th>\n",
       "      <td>12/13/17</td>\n",
       "      <td>Wednesday</td>\n",
       "      <td>32.2</td>\n",
       "      <td>1.43</td>\n",
       "      <td>26</td>\n",
       "      <td>0.5</td>\n",
       "      <td>14</td>\n",
       "    </tr>\n",
       "    <tr>\n",
       "      <th>347</th>\n",
       "      <td>12/14/17</td>\n",
       "      <td>Thursday</td>\n",
       "      <td>31.9</td>\n",
       "      <td>1.54</td>\n",
       "      <td>24</td>\n",
       "      <td>0.5</td>\n",
       "      <td>13</td>\n",
       "    </tr>\n",
       "    <tr>\n",
       "      <th>351</th>\n",
       "      <td>12/18/17</td>\n",
       "      <td>Monday</td>\n",
       "      <td>30.9</td>\n",
       "      <td>1.43</td>\n",
       "      <td>27</td>\n",
       "      <td>0.5</td>\n",
       "      <td>13</td>\n",
       "    </tr>\n",
       "    <tr>\n",
       "      <th>355</th>\n",
       "      <td>12/22/17</td>\n",
       "      <td>Friday</td>\n",
       "      <td>30.9</td>\n",
       "      <td>1.54</td>\n",
       "      <td>17</td>\n",
       "      <td>0.5</td>\n",
       "      <td>13</td>\n",
       "    </tr>\n",
       "    <tr>\n",
       "      <th>359</th>\n",
       "      <td>12/26/17</td>\n",
       "      <td>Tuesday</td>\n",
       "      <td>28.9</td>\n",
       "      <td>1.43</td>\n",
       "      <td>23</td>\n",
       "      <td>0.5</td>\n",
       "      <td>13</td>\n",
       "    </tr>\n",
       "    <tr>\n",
       "      <th>363</th>\n",
       "      <td>12/30/17</td>\n",
       "      <td>Saturday</td>\n",
       "      <td>30.9</td>\n",
       "      <td>1.43</td>\n",
       "      <td>22</td>\n",
       "      <td>0.5</td>\n",
       "      <td>13</td>\n",
       "    </tr>\n",
       "    <tr>\n",
       "      <th>364</th>\n",
       "      <td>12/31/17</td>\n",
       "      <td>Sunday</td>\n",
       "      <td>15.1</td>\n",
       "      <td>2.50</td>\n",
       "      <td>9</td>\n",
       "      <td>0.5</td>\n",
       "      <td>7</td>\n",
       "    </tr>\n",
       "  </tbody>\n",
       "</table>\n",
       "</div>"
      ],
      "text/plain": [
       "         Date        Day  Temperature  Rainfall  Flyers  Price  Sales\n",
       "0      1/1/17     Sunday         27.0      2.00      15    0.5     10\n",
       "5      1/6/17     Friday         25.3      1.54      23    0.5     11\n",
       "6      1/7/17   Saturday         32.9      1.54      19    0.5     13\n",
       "10    1/11/17  Wednesday         32.6      1.54      23    0.5     12\n",
       "15    1/16/17     Monday         30.6      1.67      24    0.5     12\n",
       "16    1/17/17    Tuesday         32.2      1.43      26    0.5     14\n",
       "19    1/20/17     Friday         31.6      1.43      20    0.5     12\n",
       "23    1/24/17    Tuesday         28.6      1.54      20    0.5     12\n",
       "337   12/4/17     Monday         34.9      1.54      16    0.5     13\n",
       "338   12/5/17    Tuesday         22.0      1.82      11    0.5     10\n",
       "342   12/9/17   Saturday         31.2      1.43      19    0.5     14\n",
       "343  12/10/17     Sunday         31.3      1.82      15    0.5     11\n",
       "346  12/13/17  Wednesday         32.2      1.43      26    0.5     14\n",
       "347  12/14/17   Thursday         31.9      1.54      24    0.5     13\n",
       "351  12/18/17     Monday         30.9      1.43      27    0.5     13\n",
       "355  12/22/17     Friday         30.9      1.54      17    0.5     13\n",
       "359  12/26/17    Tuesday         28.9      1.43      23    0.5     13\n",
       "363  12/30/17   Saturday         30.9      1.43      22    0.5     13\n",
       "364  12/31/17     Sunday         15.1      2.50       9    0.5      7"
      ]
     },
     "execution_count": 76,
     "metadata": {},
     "output_type": "execute_result"
    }
   ],
   "source": [
    "outliers_2std(df, 'Rainfall')"
   ]
  },
  {
   "cell_type": "code",
   "execution_count": 77,
   "id": "22bea458-410a-44d1-a566-81197056f8b3",
   "metadata": {},
   "outputs": [
    {
     "data": {
      "text/html": [
       "<div>\n",
       "<style scoped>\n",
       "    .dataframe tbody tr th:only-of-type {\n",
       "        vertical-align: middle;\n",
       "    }\n",
       "\n",
       "    .dataframe tbody tr th {\n",
       "        vertical-align: top;\n",
       "    }\n",
       "\n",
       "    .dataframe thead th {\n",
       "        text-align: right;\n",
       "    }\n",
       "</style>\n",
       "<table border=\"1\" class=\"dataframe\">\n",
       "  <thead>\n",
       "    <tr style=\"text-align: right;\">\n",
       "      <th></th>\n",
       "      <th>Date</th>\n",
       "      <th>Day</th>\n",
       "      <th>Temperature</th>\n",
       "      <th>Rainfall</th>\n",
       "      <th>Flyers</th>\n",
       "      <th>Price</th>\n",
       "      <th>Sales</th>\n",
       "    </tr>\n",
       "  </thead>\n",
       "  <tbody>\n",
       "    <tr>\n",
       "      <th>166</th>\n",
       "      <td>6/16/17</td>\n",
       "      <td>Friday</td>\n",
       "      <td>99.3</td>\n",
       "      <td>0.47</td>\n",
       "      <td>77</td>\n",
       "      <td>0.5</td>\n",
       "      <td>41</td>\n",
       "    </tr>\n",
       "    <tr>\n",
       "      <th>170</th>\n",
       "      <td>6/20/17</td>\n",
       "      <td>Tuesday</td>\n",
       "      <td>85.1</td>\n",
       "      <td>0.54</td>\n",
       "      <td>70</td>\n",
       "      <td>0.5</td>\n",
       "      <td>37</td>\n",
       "    </tr>\n",
       "    <tr>\n",
       "      <th>171</th>\n",
       "      <td>6/21/17</td>\n",
       "      <td>Wednesday</td>\n",
       "      <td>94.3</td>\n",
       "      <td>0.47</td>\n",
       "      <td>76</td>\n",
       "      <td>0.5</td>\n",
       "      <td>41</td>\n",
       "    </tr>\n",
       "    <tr>\n",
       "      <th>182</th>\n",
       "      <td>7/2/17</td>\n",
       "      <td>Sunday</td>\n",
       "      <td>93.4</td>\n",
       "      <td>0.51</td>\n",
       "      <td>68</td>\n",
       "      <td>0.5</td>\n",
       "      <td>158</td>\n",
       "    </tr>\n",
       "    <tr>\n",
       "      <th>183</th>\n",
       "      <td>7/3/17</td>\n",
       "      <td>Monday</td>\n",
       "      <td>81.5</td>\n",
       "      <td>0.54</td>\n",
       "      <td>68</td>\n",
       "      <td>0.5</td>\n",
       "      <td>235</td>\n",
       "    </tr>\n",
       "    <tr>\n",
       "      <th>194</th>\n",
       "      <td>7/14/17</td>\n",
       "      <td>Friday</td>\n",
       "      <td>92.0</td>\n",
       "      <td>0.50</td>\n",
       "      <td>80</td>\n",
       "      <td>0.5</td>\n",
       "      <td>40</td>\n",
       "    </tr>\n",
       "    <tr>\n",
       "      <th>198</th>\n",
       "      <td>7/18/17</td>\n",
       "      <td>Tuesday</td>\n",
       "      <td>99.3</td>\n",
       "      <td>0.47</td>\n",
       "      <td>76</td>\n",
       "      <td>0.5</td>\n",
       "      <td>41</td>\n",
       "    </tr>\n",
       "    <tr>\n",
       "      <th>203</th>\n",
       "      <td>7/23/17</td>\n",
       "      <td>Sunday</td>\n",
       "      <td>89.1</td>\n",
       "      <td>0.51</td>\n",
       "      <td>72</td>\n",
       "      <td>0.5</td>\n",
       "      <td>37</td>\n",
       "    </tr>\n",
       "    <tr>\n",
       "      <th>204</th>\n",
       "      <td>7/24/17</td>\n",
       "      <td>Monday</td>\n",
       "      <td>83.5</td>\n",
       "      <td>0.57</td>\n",
       "      <td>69</td>\n",
       "      <td>0.5</td>\n",
       "      <td>35</td>\n",
       "    </tr>\n",
       "    <tr>\n",
       "      <th>207</th>\n",
       "      <td>7/27/17</td>\n",
       "      <td>Thursday</td>\n",
       "      <td>97.9</td>\n",
       "      <td>0.47</td>\n",
       "      <td>74</td>\n",
       "      <td>0.5</td>\n",
       "      <td>43</td>\n",
       "    </tr>\n",
       "    <tr>\n",
       "      <th>324</th>\n",
       "      <td>11/21/17</td>\n",
       "      <td>Tuesday</td>\n",
       "      <td>47.0</td>\n",
       "      <td>0.95</td>\n",
       "      <td>-38</td>\n",
       "      <td>0.5</td>\n",
       "      <td>20</td>\n",
       "    </tr>\n",
       "    <tr>\n",
       "      <th>338</th>\n",
       "      <td>12/5/17</td>\n",
       "      <td>Tuesday</td>\n",
       "      <td>22.0</td>\n",
       "      <td>1.82</td>\n",
       "      <td>11</td>\n",
       "      <td>0.5</td>\n",
       "      <td>10</td>\n",
       "    </tr>\n",
       "    <tr>\n",
       "      <th>364</th>\n",
       "      <td>12/31/17</td>\n",
       "      <td>Sunday</td>\n",
       "      <td>15.1</td>\n",
       "      <td>2.50</td>\n",
       "      <td>9</td>\n",
       "      <td>0.5</td>\n",
       "      <td>7</td>\n",
       "    </tr>\n",
       "  </tbody>\n",
       "</table>\n",
       "</div>"
      ],
      "text/plain": [
       "         Date        Day  Temperature  Rainfall  Flyers  Price  Sales\n",
       "166   6/16/17     Friday         99.3      0.47      77    0.5     41\n",
       "170   6/20/17    Tuesday         85.1      0.54      70    0.5     37\n",
       "171   6/21/17  Wednesday         94.3      0.47      76    0.5     41\n",
       "182    7/2/17     Sunday         93.4      0.51      68    0.5    158\n",
       "183    7/3/17     Monday         81.5      0.54      68    0.5    235\n",
       "194   7/14/17     Friday         92.0      0.50      80    0.5     40\n",
       "198   7/18/17    Tuesday         99.3      0.47      76    0.5     41\n",
       "203   7/23/17     Sunday         89.1      0.51      72    0.5     37\n",
       "204   7/24/17     Monday         83.5      0.57      69    0.5     35\n",
       "207   7/27/17   Thursday         97.9      0.47      74    0.5     43\n",
       "324  11/21/17    Tuesday         47.0      0.95     -38    0.5     20\n",
       "338   12/5/17    Tuesday         22.0      1.82      11    0.5     10\n",
       "364  12/31/17     Sunday         15.1      2.50       9    0.5      7"
      ]
     },
     "execution_count": 77,
     "metadata": {},
     "output_type": "execute_result"
    }
   ],
   "source": [
    "outliers_2std(df, 'Flyers')"
   ]
  },
  {
   "cell_type": "markdown",
   "id": "171988d4-1066-4510-bc95-5f423bcc2b92",
   "metadata": {},
   "source": [
    "#### 3. Now use a 3 sigma decision rule to isolate the outliers in the normally distributed columns from lemonade.csv"
   ]
  },
  {
   "cell_type": "code",
   "execution_count": 79,
   "id": "61376b65-76d7-4628-9576-224ff11fa9eb",
   "metadata": {},
   "outputs": [],
   "source": [
    "def outliers_3std(df, var):\n",
    "    mean = df[var].mean()\n",
    "    std = df[var].std()\n",
    "    lower_bound = mean - (3 * std)\n",
    "    upper_bound = mean + (3 * std)\n",
    "    outliers = df[(df[var] < lower_bound) | (df[var] > upper_bound)]\n",
    "    return outliers"
   ]
  },
  {
   "cell_type": "code",
   "execution_count": 80,
   "id": "100b5e0d-b0e9-4956-9cdf-741b1fd4d29a",
   "metadata": {},
   "outputs": [
    {
     "data": {
      "text/html": [
       "<div>\n",
       "<style scoped>\n",
       "    .dataframe tbody tr th:only-of-type {\n",
       "        vertical-align: middle;\n",
       "    }\n",
       "\n",
       "    .dataframe tbody tr th {\n",
       "        vertical-align: top;\n",
       "    }\n",
       "\n",
       "    .dataframe thead th {\n",
       "        text-align: right;\n",
       "    }\n",
       "</style>\n",
       "<table border=\"1\" class=\"dataframe\">\n",
       "  <thead>\n",
       "    <tr style=\"text-align: right;\">\n",
       "      <th></th>\n",
       "      <th>Date</th>\n",
       "      <th>Day</th>\n",
       "      <th>Temperature</th>\n",
       "      <th>Rainfall</th>\n",
       "      <th>Flyers</th>\n",
       "      <th>Price</th>\n",
       "      <th>Sales</th>\n",
       "    </tr>\n",
       "  </thead>\n",
       "  <tbody>\n",
       "    <tr>\n",
       "      <th>41</th>\n",
       "      <td>2/11/17</td>\n",
       "      <td>Saturday</td>\n",
       "      <td>212.0</td>\n",
       "      <td>0.91</td>\n",
       "      <td>35</td>\n",
       "      <td>0.5</td>\n",
       "      <td>21</td>\n",
       "    </tr>\n",
       "  </tbody>\n",
       "</table>\n",
       "</div>"
      ],
      "text/plain": [
       "       Date       Day  Temperature  Rainfall  Flyers  Price  Sales\n",
       "41  2/11/17  Saturday        212.0      0.91      35    0.5     21"
      ]
     },
     "execution_count": 80,
     "metadata": {},
     "output_type": "execute_result"
    }
   ],
   "source": [
    "outliers_3std(df, 'Temperature')"
   ]
  },
  {
   "cell_type": "code",
   "execution_count": 81,
   "id": "3c6e14cd-3a0e-4907-ab5e-9570e5f372b2",
   "metadata": {},
   "outputs": [
    {
     "data": {
      "text/html": [
       "<div>\n",
       "<style scoped>\n",
       "    .dataframe tbody tr th:only-of-type {\n",
       "        vertical-align: middle;\n",
       "    }\n",
       "\n",
       "    .dataframe tbody tr th {\n",
       "        vertical-align: top;\n",
       "    }\n",
       "\n",
       "    .dataframe thead th {\n",
       "        text-align: right;\n",
       "    }\n",
       "</style>\n",
       "<table border=\"1\" class=\"dataframe\">\n",
       "  <thead>\n",
       "    <tr style=\"text-align: right;\">\n",
       "      <th></th>\n",
       "      <th>Date</th>\n",
       "      <th>Day</th>\n",
       "      <th>Temperature</th>\n",
       "      <th>Rainfall</th>\n",
       "      <th>Flyers</th>\n",
       "      <th>Price</th>\n",
       "      <th>Sales</th>\n",
       "    </tr>\n",
       "  </thead>\n",
       "  <tbody>\n",
       "    <tr>\n",
       "      <th>0</th>\n",
       "      <td>1/1/17</td>\n",
       "      <td>Sunday</td>\n",
       "      <td>27.0</td>\n",
       "      <td>2.00</td>\n",
       "      <td>15</td>\n",
       "      <td>0.5</td>\n",
       "      <td>10</td>\n",
       "    </tr>\n",
       "    <tr>\n",
       "      <th>15</th>\n",
       "      <td>1/16/17</td>\n",
       "      <td>Monday</td>\n",
       "      <td>30.6</td>\n",
       "      <td>1.67</td>\n",
       "      <td>24</td>\n",
       "      <td>0.5</td>\n",
       "      <td>12</td>\n",
       "    </tr>\n",
       "    <tr>\n",
       "      <th>338</th>\n",
       "      <td>12/5/17</td>\n",
       "      <td>Tuesday</td>\n",
       "      <td>22.0</td>\n",
       "      <td>1.82</td>\n",
       "      <td>11</td>\n",
       "      <td>0.5</td>\n",
       "      <td>10</td>\n",
       "    </tr>\n",
       "    <tr>\n",
       "      <th>343</th>\n",
       "      <td>12/10/17</td>\n",
       "      <td>Sunday</td>\n",
       "      <td>31.3</td>\n",
       "      <td>1.82</td>\n",
       "      <td>15</td>\n",
       "      <td>0.5</td>\n",
       "      <td>11</td>\n",
       "    </tr>\n",
       "    <tr>\n",
       "      <th>364</th>\n",
       "      <td>12/31/17</td>\n",
       "      <td>Sunday</td>\n",
       "      <td>15.1</td>\n",
       "      <td>2.50</td>\n",
       "      <td>9</td>\n",
       "      <td>0.5</td>\n",
       "      <td>7</td>\n",
       "    </tr>\n",
       "  </tbody>\n",
       "</table>\n",
       "</div>"
      ],
      "text/plain": [
       "         Date      Day  Temperature  Rainfall  Flyers  Price  Sales\n",
       "0      1/1/17   Sunday         27.0      2.00      15    0.5     10\n",
       "15    1/16/17   Monday         30.6      1.67      24    0.5     12\n",
       "338   12/5/17  Tuesday         22.0      1.82      11    0.5     10\n",
       "343  12/10/17   Sunday         31.3      1.82      15    0.5     11\n",
       "364  12/31/17   Sunday         15.1      2.50       9    0.5      7"
      ]
     },
     "execution_count": 81,
     "metadata": {},
     "output_type": "execute_result"
    }
   ],
   "source": [
    "outliers_3std(df, 'Rainfall')"
   ]
  },
  {
   "cell_type": "code",
   "execution_count": 82,
   "id": "7c07f10a-9c5a-46b5-a011-4d29d5a2622c",
   "metadata": {},
   "outputs": [
    {
     "data": {
      "text/html": [
       "<div>\n",
       "<style scoped>\n",
       "    .dataframe tbody tr th:only-of-type {\n",
       "        vertical-align: middle;\n",
       "    }\n",
       "\n",
       "    .dataframe tbody tr th {\n",
       "        vertical-align: top;\n",
       "    }\n",
       "\n",
       "    .dataframe thead th {\n",
       "        text-align: right;\n",
       "    }\n",
       "</style>\n",
       "<table border=\"1\" class=\"dataframe\">\n",
       "  <thead>\n",
       "    <tr style=\"text-align: right;\">\n",
       "      <th></th>\n",
       "      <th>Date</th>\n",
       "      <th>Day</th>\n",
       "      <th>Temperature</th>\n",
       "      <th>Rainfall</th>\n",
       "      <th>Flyers</th>\n",
       "      <th>Price</th>\n",
       "      <th>Sales</th>\n",
       "    </tr>\n",
       "  </thead>\n",
       "  <tbody>\n",
       "    <tr>\n",
       "      <th>324</th>\n",
       "      <td>11/21/17</td>\n",
       "      <td>Tuesday</td>\n",
       "      <td>47.0</td>\n",
       "      <td>0.95</td>\n",
       "      <td>-38</td>\n",
       "      <td>0.5</td>\n",
       "      <td>20</td>\n",
       "    </tr>\n",
       "  </tbody>\n",
       "</table>\n",
       "</div>"
      ],
      "text/plain": [
       "         Date      Day  Temperature  Rainfall  Flyers  Price  Sales\n",
       "324  11/21/17  Tuesday         47.0      0.95     -38    0.5     20"
      ]
     },
     "execution_count": 82,
     "metadata": {},
     "output_type": "execute_result"
    }
   ],
   "source": [
    "outliers_3std(df, 'Flyers')"
   ]
  },
  {
   "cell_type": "code",
   "execution_count": null,
   "id": "f69651ab-160d-4a15-89c6-6dca3ba3064e",
   "metadata": {},
   "outputs": [],
   "source": []
  }
 ],
 "metadata": {
  "kernelspec": {
   "display_name": "Python 3 (ipykernel)",
   "language": "python",
   "name": "python3"
  },
  "language_info": {
   "codemirror_mode": {
    "name": "ipython",
    "version": 3
   },
   "file_extension": ".py",
   "mimetype": "text/x-python",
   "name": "python",
   "nbconvert_exporter": "python",
   "pygments_lexer": "ipython3",
   "version": "3.9.13"
  }
 },
 "nbformat": 4,
 "nbformat_minor": 5
}
