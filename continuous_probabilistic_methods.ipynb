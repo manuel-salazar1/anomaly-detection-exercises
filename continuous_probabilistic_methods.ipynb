{
 "cells": [
  {
   "cell_type": "markdown",
   "id": "f6d0d91b-8268-41f8-aedb-5f0b49e5a6ba",
   "metadata": {},
   "source": [
    "#### Imports"
   ]
  },
  {
   "cell_type": "code",
   "execution_count": 1,
   "id": "448bc9b3-d011-427a-a402-1495a9c9b4d7",
   "metadata": {},
   "outputs": [],
   "source": [
    "import numpy as np\n",
    "import pandas as pd\n",
    "import seaborn as sns\n",
    "import itertools\n",
    "from pydataset import data\n",
    "\n",
    "import matplotlib.pyplot as plt\n",
    "%matplotlib inline"
   ]
  },
  {
   "cell_type": "markdown",
   "id": "9e614321-3649-4231-8e43-6077bf436bd7",
   "metadata": {},
   "source": [
    "# Exercises"
   ]
  },
  {
   "cell_type": "markdown",
   "id": "7b07e783-d4e7-44ab-8eb4-8ed15ba6d441",
   "metadata": {},
   "source": [
    "#### 1. Using lemonade.csv dataset and focusing on continuous variables:"
   ]
  },
  {
   "cell_type": "code",
   "execution_count": 2,
   "id": "63e4bba9-c495-4d11-84ee-f9a25ca9b214",
   "metadata": {},
   "outputs": [],
   "source": [
    "url = 'https://gist.githubusercontent.com/ryanorsinger/19bc7eccd6279661bd13307026628ace/raw/e4b5d6787015a4782f96cad6d1d62a8bdbac54c7/lemonade.csv'\n"
   ]
  },
  {
   "cell_type": "code",
   "execution_count": 3,
   "id": "f72aa7ea-ed6e-4624-ab56-bbad28f22e81",
   "metadata": {},
   "outputs": [],
   "source": [
    "df = pd.read_csv(url)"
   ]
  },
  {
   "cell_type": "code",
   "execution_count": 4,
   "id": "87f361f8-e37d-462f-bd52-99838d0b5dfb",
   "metadata": {},
   "outputs": [
    {
     "data": {
      "text/html": [
       "<div>\n",
       "<style scoped>\n",
       "    .dataframe tbody tr th:only-of-type {\n",
       "        vertical-align: middle;\n",
       "    }\n",
       "\n",
       "    .dataframe tbody tr th {\n",
       "        vertical-align: top;\n",
       "    }\n",
       "\n",
       "    .dataframe thead th {\n",
       "        text-align: right;\n",
       "    }\n",
       "</style>\n",
       "<table border=\"1\" class=\"dataframe\">\n",
       "  <thead>\n",
       "    <tr style=\"text-align: right;\">\n",
       "      <th></th>\n",
       "      <th>Date</th>\n",
       "      <th>Day</th>\n",
       "      <th>Temperature</th>\n",
       "      <th>Rainfall</th>\n",
       "      <th>Flyers</th>\n",
       "      <th>Price</th>\n",
       "      <th>Sales</th>\n",
       "    </tr>\n",
       "  </thead>\n",
       "  <tbody>\n",
       "    <tr>\n",
       "      <th>0</th>\n",
       "      <td>1/1/17</td>\n",
       "      <td>Sunday</td>\n",
       "      <td>27.0</td>\n",
       "      <td>2.00</td>\n",
       "      <td>15</td>\n",
       "      <td>0.5</td>\n",
       "      <td>10</td>\n",
       "    </tr>\n",
       "    <tr>\n",
       "      <th>1</th>\n",
       "      <td>1/2/17</td>\n",
       "      <td>Monday</td>\n",
       "      <td>28.9</td>\n",
       "      <td>1.33</td>\n",
       "      <td>15</td>\n",
       "      <td>0.5</td>\n",
       "      <td>13</td>\n",
       "    </tr>\n",
       "    <tr>\n",
       "      <th>2</th>\n",
       "      <td>1/3/17</td>\n",
       "      <td>Tuesday</td>\n",
       "      <td>34.5</td>\n",
       "      <td>1.33</td>\n",
       "      <td>27</td>\n",
       "      <td>0.5</td>\n",
       "      <td>15</td>\n",
       "    </tr>\n",
       "    <tr>\n",
       "      <th>3</th>\n",
       "      <td>1/4/17</td>\n",
       "      <td>Wednesday</td>\n",
       "      <td>44.1</td>\n",
       "      <td>1.05</td>\n",
       "      <td>28</td>\n",
       "      <td>0.5</td>\n",
       "      <td>17</td>\n",
       "    </tr>\n",
       "    <tr>\n",
       "      <th>4</th>\n",
       "      <td>1/5/17</td>\n",
       "      <td>Thursday</td>\n",
       "      <td>42.4</td>\n",
       "      <td>1.00</td>\n",
       "      <td>33</td>\n",
       "      <td>0.5</td>\n",
       "      <td>18</td>\n",
       "    </tr>\n",
       "  </tbody>\n",
       "</table>\n",
       "</div>"
      ],
      "text/plain": [
       "     Date        Day  Temperature  Rainfall  Flyers  Price  Sales\n",
       "0  1/1/17     Sunday         27.0      2.00      15    0.5     10\n",
       "1  1/2/17     Monday         28.9      1.33      15    0.5     13\n",
       "2  1/3/17    Tuesday         34.5      1.33      27    0.5     15\n",
       "3  1/4/17  Wednesday         44.1      1.05      28    0.5     17\n",
       "4  1/5/17   Thursday         42.4      1.00      33    0.5     18"
      ]
     },
     "execution_count": 4,
     "metadata": {},
     "output_type": "execute_result"
    }
   ],
   "source": [
    "df.head()"
   ]
  },
  {
   "cell_type": "code",
   "execution_count": null,
   "id": "b68f154d-eece-4f7d-96d0-d3b62755f302",
   "metadata": {},
   "outputs": [],
   "source": []
  },
  {
   "cell_type": "code",
   "execution_count": null,
   "id": "f67da000-402b-459c-8cd8-1a64ba7ae469",
   "metadata": {},
   "outputs": [],
   "source": []
  },
  {
   "cell_type": "markdown",
   "id": "39e1bec6-66d0-4932-8dcc-57ed2b428283",
   "metadata": {},
   "source": [
    "- Use the IQR Range Rule and the upper and lower bounds to identify the lower outliers of each column of lemonade.csv, using the multiplier of 1.5. Do these lower outliers make sense? Which outliers should be kept?\n"
   ]
  },
  {
   "cell_type": "code",
   "execution_count": null,
   "id": "3c750c50-65a8-47cd-9aac-f3b91080901d",
   "metadata": {},
   "outputs": [],
   "source": []
  },
  {
   "cell_type": "code",
   "execution_count": null,
   "id": "926a1652-dbf5-4805-8d63-5c9d06a65870",
   "metadata": {},
   "outputs": [],
   "source": []
  },
  {
   "cell_type": "markdown",
   "id": "dc7fb55b-a4cb-4056-ae2a-c3f9ffe65c7f",
   "metadata": {},
   "source": [
    "- Use the IQR Range Rule and the upper and upper bounds to identify the upper outliers of each column of lemonade.csv, using the multiplier of 1.5. Do these upper outliers make sense? Which outliers should be kept?\n"
   ]
  },
  {
   "cell_type": "code",
   "execution_count": null,
   "id": "5bff85f3-2ce7-4951-975d-76723e4dceda",
   "metadata": {},
   "outputs": [],
   "source": []
  },
  {
   "cell_type": "code",
   "execution_count": null,
   "id": "d0dafef3-7c07-41c0-ac4f-19df11812d7e",
   "metadata": {},
   "outputs": [],
   "source": []
  },
  {
   "cell_type": "markdown",
   "id": "6150bacb-2719-4731-8dae-1b22a7a74591",
   "metadata": {},
   "source": [
    "- Using the multiplier of 3, IQR Range Rule, and the lower bounds, identify the outliers below the lower bound in each colum of lemonade.csv. Do these lower outliers make sense? Which outliers should be kept?\n"
   ]
  },
  {
   "cell_type": "code",
   "execution_count": null,
   "id": "ede3b1c2-7f67-4618-95bc-b12a85164ef0",
   "metadata": {},
   "outputs": [],
   "source": []
  },
  {
   "cell_type": "code",
   "execution_count": null,
   "id": "26259371-996d-41a5-9c72-440042fd5ad6",
   "metadata": {},
   "outputs": [],
   "source": []
  },
  {
   "cell_type": "markdown",
   "id": "fbac743a-00b4-4d98-bf7c-0c8262e7169e",
   "metadata": {},
   "source": [
    "- Using the multiplier of 3, IQR Range Rule, and the upper bounds, identify the outliers above the upper_bound in each colum of lemonade.csv. Do these upper outliers make sense? Which outliers should be kept?"
   ]
  },
  {
   "cell_type": "code",
   "execution_count": null,
   "id": "55602de9-d69b-459c-bbe4-208229e2c587",
   "metadata": {},
   "outputs": [],
   "source": []
  },
  {
   "cell_type": "code",
   "execution_count": null,
   "id": "b0f0a08b-2218-4300-9a05-3beab9a9ed55",
   "metadata": {},
   "outputs": [],
   "source": []
  },
  {
   "cell_type": "markdown",
   "id": "01a2f6b1-a5b7-4e95-9c0e-7e16c83e87e8",
   "metadata": {},
   "source": [
    "#### 2. Identify if any columns in lemonade.csv are normally distributed. For normally distributed columns:"
   ]
  },
  {
   "cell_type": "markdown",
   "id": "12f37e3e-ecea-4fe8-a840-7f0e38e2bb62",
   "metadata": {},
   "source": [
    "- Use a 2 sigma decision rule to isolate the outliers.\n",
    "    - Do these make sense?\n",
    "    - Should certain outliers be kept or removed?"
   ]
  },
  {
   "cell_type": "code",
   "execution_count": null,
   "id": "8076ee6c-5212-44fb-aa8d-31cf0a5d4451",
   "metadata": {},
   "outputs": [],
   "source": []
  },
  {
   "cell_type": "code",
   "execution_count": null,
   "id": "f66123fe-98cd-4b22-b6a5-a4eca6e853a2",
   "metadata": {},
   "outputs": [],
   "source": []
  },
  {
   "cell_type": "markdown",
   "id": "171988d4-1066-4510-bc95-5f423bcc2b92",
   "metadata": {},
   "source": [
    "#### 3. Now use a 3 sigma decision rule to isolate the outliers in the normally distributed columns from lemonade.csv"
   ]
  },
  {
   "cell_type": "code",
   "execution_count": null,
   "id": "61376b65-76d7-4628-9576-224ff11fa9eb",
   "metadata": {},
   "outputs": [],
   "source": []
  },
  {
   "cell_type": "code",
   "execution_count": null,
   "id": "100b5e0d-b0e9-4956-9cdf-741b1fd4d29a",
   "metadata": {},
   "outputs": [],
   "source": []
  },
  {
   "cell_type": "code",
   "execution_count": null,
   "id": "3c6e14cd-3a0e-4907-ab5e-9570e5f372b2",
   "metadata": {},
   "outputs": [],
   "source": []
  },
  {
   "cell_type": "code",
   "execution_count": null,
   "id": "7c07f10a-9c5a-46b5-a011-4d29d5a2622c",
   "metadata": {},
   "outputs": [],
   "source": []
  },
  {
   "cell_type": "code",
   "execution_count": null,
   "id": "f69651ab-160d-4a15-89c6-6dca3ba3064e",
   "metadata": {},
   "outputs": [],
   "source": []
  },
  {
   "cell_type": "code",
   "execution_count": null,
   "id": "11011d08-6e55-4523-906e-b86a4a800094",
   "metadata": {},
   "outputs": [],
   "source": []
  },
  {
   "cell_type": "code",
   "execution_count": null,
   "id": "9ac8124e-9830-401e-a2ea-fc498cf2bdca",
   "metadata": {},
   "outputs": [],
   "source": []
  },
  {
   "cell_type": "code",
   "execution_count": null,
   "id": "2e40aec3-8c6e-4f3a-8282-b0bf0d34b1da",
   "metadata": {},
   "outputs": [],
   "source": []
  },
  {
   "cell_type": "code",
   "execution_count": null,
   "id": "5b8feb51-cbf8-4b23-ae1e-9586905695a2",
   "metadata": {},
   "outputs": [],
   "source": []
  },
  {
   "cell_type": "code",
   "execution_count": null,
   "id": "61b32547-3317-4a3c-8dc9-ded4f5beea1f",
   "metadata": {},
   "outputs": [],
   "source": []
  }
 ],
 "metadata": {
  "kernelspec": {
   "display_name": "Python 3 (ipykernel)",
   "language": "python",
   "name": "python3"
  },
  "language_info": {
   "codemirror_mode": {
    "name": "ipython",
    "version": 3
   },
   "file_extension": ".py",
   "mimetype": "text/x-python",
   "name": "python",
   "nbconvert_exporter": "python",
   "pygments_lexer": "ipython3",
   "version": "3.9.13"
  }
 },
 "nbformat": 4,
 "nbformat_minor": 5
}
